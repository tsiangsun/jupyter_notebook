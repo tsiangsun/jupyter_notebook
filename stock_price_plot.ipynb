{
 "cells": [
  {
   "cell_type": "code",
   "execution_count": 1,
   "metadata": {
    "collapsed": true
   },
   "outputs": [],
   "source": [
    "import pandas as pd\n",
    "import numpy as np\n",
    "import requests\n",
    "import simplejson as json"
   ]
  },
  {
   "cell_type": "code",
   "execution_count": 2,
   "metadata": {
    "collapsed": true
   },
   "outputs": [],
   "source": [
    "symbol='GOOG'\n",
    "API_key='no_7haifmMMUdYQPyt_Q'"
   ]
  },
  {
   "cell_type": "code",
   "execution_count": 5,
   "metadata": {
    "collapsed": true
   },
   "outputs": [],
   "source": [
    "api_url='http://www.quandl.com/api/v3/datasets/WIKI/%s.json?api_key=%s'%(symbol, API_key)"
   ]
  },
  {
   "cell_type": "code",
   "execution_count": 6,
   "metadata": {
    "collapsed": false
   },
   "outputs": [
    {
     "name": "stdout",
     "output_type": "stream",
     "text": [
      "http://www.quandl.com/api/v3/datasets/WIKI/GOOG.json?api_key=no_7haifmMMUdYQPyt_Q\n"
     ]
    }
   ],
   "source": [
    "print api_url"
   ]
  },
  {
   "cell_type": "code",
   "execution_count": 7,
   "metadata": {
    "collapsed": true
   },
   "outputs": [],
   "source": [
    "from bokeh.plotting import figure"
   ]
  },
  {
   "cell_type": "code",
   "execution_count": 8,
   "metadata": {
    "collapsed": true
   },
   "outputs": [],
   "source": [
    "session=requests.Session()\n",
    "session.mount('http://',requests.adapters.HTTPAdapter(max_retries=3))\n",
    "raw_data = session.get(api_url)"
   ]
  },
  {
   "cell_type": "code",
   "execution_count": 11,
   "metadata": {
    "collapsed": false
   },
   "outputs": [
    {
     "name": "stdout",
     "output_type": "stream",
     "text": [
      "Success in getting data\n"
     ]
    }
   ],
   "source": [
    "if raw_data.status_code == 200 : \n",
    "    print 'Success in getting data'"
   ]
  },
  {
   "cell_type": "code",
   "execution_count": 12,
   "metadata": {
    "collapsed": true
   },
   "outputs": [],
   "source": [
    "df = pd.DataFrame(data=np.array(raw_data.json()['dataset']['data']), columns=raw_data.json()['dataset']['column_names'])"
   ]
  },
  {
   "cell_type": "code",
   "execution_count": 13,
   "metadata": {
    "collapsed": false
   },
   "outputs": [
    {
     "data": {
      "text/html": [
       "<div>\n",
       "<table border=\"1\" class=\"dataframe\">\n",
       "  <thead>\n",
       "    <tr style=\"text-align: right;\">\n",
       "      <th></th>\n",
       "      <th>Date</th>\n",
       "      <th>Open</th>\n",
       "      <th>High</th>\n",
       "      <th>Low</th>\n",
       "      <th>Close</th>\n",
       "      <th>Volume</th>\n",
       "      <th>Ex-Dividend</th>\n",
       "      <th>Split Ratio</th>\n",
       "      <th>Adj. Open</th>\n",
       "      <th>Adj. High</th>\n",
       "      <th>Adj. Low</th>\n",
       "      <th>Adj. Close</th>\n",
       "      <th>Adj. Volume</th>\n",
       "    </tr>\n",
       "  </thead>\n",
       "  <tbody>\n",
       "    <tr>\n",
       "      <th>0</th>\n",
       "      <td>2017-06-15</td>\n",
       "      <td>933.97</td>\n",
       "      <td>943.339</td>\n",
       "      <td>924.44</td>\n",
       "      <td>942.31</td>\n",
       "      <td>2055953.0</td>\n",
       "      <td>0.0</td>\n",
       "      <td>1.0</td>\n",
       "      <td>933.97</td>\n",
       "      <td>943.339</td>\n",
       "      <td>924.44</td>\n",
       "      <td>942.31</td>\n",
       "      <td>2055953.0</td>\n",
       "    </tr>\n",
       "    <tr>\n",
       "      <th>1</th>\n",
       "      <td>2017-06-14</td>\n",
       "      <td>959.92</td>\n",
       "      <td>961.15</td>\n",
       "      <td>942.25</td>\n",
       "      <td>950.76</td>\n",
       "      <td>1477033.0</td>\n",
       "      <td>0.0</td>\n",
       "      <td>1.0</td>\n",
       "      <td>959.92</td>\n",
       "      <td>961.15</td>\n",
       "      <td>942.25</td>\n",
       "      <td>950.76</td>\n",
       "      <td>1477033.0</td>\n",
       "    </tr>\n",
       "    <tr>\n",
       "      <th>2</th>\n",
       "      <td>2017-06-13</td>\n",
       "      <td>951.91</td>\n",
       "      <td>959.98</td>\n",
       "      <td>944.09</td>\n",
       "      <td>953.4</td>\n",
       "      <td>1995350.0</td>\n",
       "      <td>0.0</td>\n",
       "      <td>1.0</td>\n",
       "      <td>951.91</td>\n",
       "      <td>959.98</td>\n",
       "      <td>944.09</td>\n",
       "      <td>953.4</td>\n",
       "      <td>1995350.0</td>\n",
       "    </tr>\n",
       "    <tr>\n",
       "      <th>3</th>\n",
       "      <td>2017-06-12</td>\n",
       "      <td>939.56</td>\n",
       "      <td>949.355</td>\n",
       "      <td>915.2328</td>\n",
       "      <td>942.9</td>\n",
       "      <td>3731589.0</td>\n",
       "      <td>0.0</td>\n",
       "      <td>1.0</td>\n",
       "      <td>939.56</td>\n",
       "      <td>949.355</td>\n",
       "      <td>915.2328</td>\n",
       "      <td>942.9</td>\n",
       "      <td>3731589.0</td>\n",
       "    </tr>\n",
       "    <tr>\n",
       "      <th>4</th>\n",
       "      <td>2017-06-09</td>\n",
       "      <td>984.5</td>\n",
       "      <td>984.5</td>\n",
       "      <td>935.63</td>\n",
       "      <td>949.83</td>\n",
       "      <td>3270248.0</td>\n",
       "      <td>0.0</td>\n",
       "      <td>1.0</td>\n",
       "      <td>984.5</td>\n",
       "      <td>984.5</td>\n",
       "      <td>935.63</td>\n",
       "      <td>949.83</td>\n",
       "      <td>3270248.0</td>\n",
       "    </tr>\n",
       "  </tbody>\n",
       "</table>\n",
       "</div>"
      ],
      "text/plain": [
       "         Date    Open     High       Low   Close     Volume Ex-Dividend  \\\n",
       "0  2017-06-15  933.97  943.339    924.44  942.31  2055953.0         0.0   \n",
       "1  2017-06-14  959.92   961.15    942.25  950.76  1477033.0         0.0   \n",
       "2  2017-06-13  951.91   959.98    944.09   953.4  1995350.0         0.0   \n",
       "3  2017-06-12  939.56  949.355  915.2328   942.9  3731589.0         0.0   \n",
       "4  2017-06-09   984.5    984.5    935.63  949.83  3270248.0         0.0   \n",
       "\n",
       "  Split Ratio Adj. Open Adj. High  Adj. Low Adj. Close Adj. Volume  \n",
       "0         1.0    933.97   943.339    924.44     942.31   2055953.0  \n",
       "1         1.0    959.92    961.15    942.25     950.76   1477033.0  \n",
       "2         1.0    951.91    959.98    944.09      953.4   1995350.0  \n",
       "3         1.0    939.56   949.355  915.2328      942.9   3731589.0  \n",
       "4         1.0     984.5     984.5    935.63     949.83   3270248.0  "
      ]
     },
     "execution_count": 13,
     "metadata": {},
     "output_type": "execute_result"
    }
   ],
   "source": [
    "df.head()"
   ]
  },
  {
   "cell_type": "code",
   "execution_count": 15,
   "metadata": {
    "collapsed": false
   },
   "outputs": [
    {
     "data": {
      "text/plain": [
       "Index([u'Date', u'Open', u'High', u'Low', u'Close', u'Volume', u'Ex-Dividend',\n",
       "       u'Split Ratio', u'Adj. Open', u'Adj. High', u'Adj. Low', u'Adj. Close',\n",
       "       u'Adj. Volume'],\n",
       "      dtype='object')"
      ]
     },
     "execution_count": 15,
     "metadata": {},
     "output_type": "execute_result"
    }
   ],
   "source": [
    "df.columns"
   ]
  },
  {
   "cell_type": "code",
   "execution_count": 16,
   "metadata": {
    "collapsed": false
   },
   "outputs": [
    {
     "data": {
      "text/plain": [
       "(812, 13)"
      ]
     },
     "execution_count": 16,
     "metadata": {},
     "output_type": "execute_result"
    }
   ],
   "source": [
    "df.shape"
   ]
  },
  {
   "cell_type": "code",
   "execution_count": 17,
   "metadata": {
    "collapsed": false
   },
   "outputs": [
    {
     "data": {
      "text/html": [
       "<div>\n",
       "<table border=\"1\" class=\"dataframe\">\n",
       "  <thead>\n",
       "    <tr style=\"text-align: right;\">\n",
       "      <th></th>\n",
       "      <th>Date</th>\n",
       "      <th>Open</th>\n",
       "      <th>High</th>\n",
       "      <th>Low</th>\n",
       "      <th>Close</th>\n",
       "      <th>Volume</th>\n",
       "      <th>Ex-Dividend</th>\n",
       "      <th>Split Ratio</th>\n",
       "      <th>Adj. Open</th>\n",
       "      <th>Adj. High</th>\n",
       "      <th>Adj. Low</th>\n",
       "      <th>Adj. Close</th>\n",
       "      <th>Adj. Volume</th>\n",
       "    </tr>\n",
       "  </thead>\n",
       "  <tbody>\n",
       "    <tr>\n",
       "      <th>807</th>\n",
       "      <td>2014-04-02</td>\n",
       "      <td>565.106</td>\n",
       "      <td>604.83</td>\n",
       "      <td>562.19</td>\n",
       "      <td>567.0</td>\n",
       "      <td>146700.0</td>\n",
       "      <td>0.0</td>\n",
       "      <td>1.0</td>\n",
       "      <td>565.106</td>\n",
       "      <td>604.83</td>\n",
       "      <td>562.19</td>\n",
       "      <td>567.0</td>\n",
       "      <td>146700.0</td>\n",
       "    </tr>\n",
       "    <tr>\n",
       "      <th>808</th>\n",
       "      <td>2014-04-01</td>\n",
       "      <td>558.71</td>\n",
       "      <td>568.45</td>\n",
       "      <td>558.71</td>\n",
       "      <td>567.16</td>\n",
       "      <td>7900.0</td>\n",
       "      <td>0.0</td>\n",
       "      <td>1.0</td>\n",
       "      <td>558.71</td>\n",
       "      <td>568.45</td>\n",
       "      <td>558.71</td>\n",
       "      <td>567.16</td>\n",
       "      <td>7900.0</td>\n",
       "    </tr>\n",
       "    <tr>\n",
       "      <th>809</th>\n",
       "      <td>2014-03-31</td>\n",
       "      <td>566.89</td>\n",
       "      <td>567.0</td>\n",
       "      <td>556.93</td>\n",
       "      <td>556.97</td>\n",
       "      <td>10800.0</td>\n",
       "      <td>0.0</td>\n",
       "      <td>1.0</td>\n",
       "      <td>566.89</td>\n",
       "      <td>567.0</td>\n",
       "      <td>556.93</td>\n",
       "      <td>556.97</td>\n",
       "      <td>10800.0</td>\n",
       "    </tr>\n",
       "    <tr>\n",
       "      <th>810</th>\n",
       "      <td>2014-03-28</td>\n",
       "      <td>561.2</td>\n",
       "      <td>566.43</td>\n",
       "      <td>558.67</td>\n",
       "      <td>559.99</td>\n",
       "      <td>41100.0</td>\n",
       "      <td>0.0</td>\n",
       "      <td>1.0</td>\n",
       "      <td>561.2</td>\n",
       "      <td>566.43</td>\n",
       "      <td>558.67</td>\n",
       "      <td>559.99</td>\n",
       "      <td>41100.0</td>\n",
       "    </tr>\n",
       "    <tr>\n",
       "      <th>811</th>\n",
       "      <td>2014-03-27</td>\n",
       "      <td>568.0</td>\n",
       "      <td>568.0</td>\n",
       "      <td>552.92</td>\n",
       "      <td>558.46</td>\n",
       "      <td>13100.0</td>\n",
       "      <td>0.0</td>\n",
       "      <td>1.0</td>\n",
       "      <td>568.0</td>\n",
       "      <td>568.0</td>\n",
       "      <td>552.92</td>\n",
       "      <td>558.46</td>\n",
       "      <td>13100.0</td>\n",
       "    </tr>\n",
       "  </tbody>\n",
       "</table>\n",
       "</div>"
      ],
      "text/plain": [
       "           Date     Open    High     Low   Close    Volume Ex-Dividend  \\\n",
       "807  2014-04-02  565.106  604.83  562.19   567.0  146700.0         0.0   \n",
       "808  2014-04-01   558.71  568.45  558.71  567.16    7900.0         0.0   \n",
       "809  2014-03-31   566.89   567.0  556.93  556.97   10800.0         0.0   \n",
       "810  2014-03-28    561.2  566.43  558.67  559.99   41100.0         0.0   \n",
       "811  2014-03-27    568.0   568.0  552.92  558.46   13100.0         0.0   \n",
       "\n",
       "    Split Ratio Adj. Open Adj. High Adj. Low Adj. Close Adj. Volume  \n",
       "807         1.0   565.106    604.83   562.19      567.0    146700.0  \n",
       "808         1.0    558.71    568.45   558.71     567.16      7900.0  \n",
       "809         1.0    566.89     567.0   556.93     556.97     10800.0  \n",
       "810         1.0     561.2    566.43   558.67     559.99     41100.0  \n",
       "811         1.0     568.0     568.0   552.92     558.46     13100.0  "
      ]
     },
     "execution_count": 17,
     "metadata": {},
     "output_type": "execute_result"
    }
   ],
   "source": [
    "df.tail()"
   ]
  },
  {
   "cell_type": "code",
   "execution_count": 20,
   "metadata": {
    "collapsed": false
   },
   "outputs": [
    {
     "data": {
      "text/plain": [
       "0      2017-06-15\n",
       "1      2017-06-14\n",
       "2      2017-06-13\n",
       "3      2017-06-12\n",
       "4      2017-06-09\n",
       "5      2017-06-08\n",
       "6      2017-06-07\n",
       "7      2017-06-06\n",
       "8      2017-06-05\n",
       "9      2017-06-02\n",
       "10     2017-06-01\n",
       "11     2017-05-31\n",
       "12     2017-05-30\n",
       "13     2017-05-26\n",
       "14     2017-05-25\n",
       "15     2017-05-24\n",
       "16     2017-05-23\n",
       "17     2017-05-22\n",
       "18     2017-05-19\n",
       "19     2017-05-18\n",
       "20     2017-05-17\n",
       "21     2017-05-16\n",
       "22     2017-05-15\n",
       "23     2017-05-12\n",
       "24     2017-05-11\n",
       "25     2017-05-10\n",
       "26     2017-05-09\n",
       "27     2017-05-08\n",
       "28     2017-05-05\n",
       "29     2017-05-04\n",
       "          ...    \n",
       "782    2014-05-08\n",
       "783    2014-05-07\n",
       "784    2014-05-06\n",
       "785    2014-05-05\n",
       "786    2014-05-02\n",
       "787    2014-05-01\n",
       "788    2014-04-30\n",
       "789    2014-04-29\n",
       "790    2014-04-28\n",
       "791    2014-04-25\n",
       "792    2014-04-24\n",
       "793    2014-04-23\n",
       "794    2014-04-22\n",
       "795    2014-04-21\n",
       "796    2014-04-17\n",
       "797    2014-04-16\n",
       "798    2014-04-15\n",
       "799    2014-04-14\n",
       "800    2014-04-11\n",
       "801    2014-04-10\n",
       "802    2014-04-09\n",
       "803    2014-04-08\n",
       "804    2014-04-07\n",
       "805    2014-04-04\n",
       "806    2014-04-03\n",
       "807    2014-04-02\n",
       "808    2014-04-01\n",
       "809    2014-03-31\n",
       "810    2014-03-28\n",
       "811    2014-03-27\n",
       "Name: Date, dtype: object"
      ]
     },
     "execution_count": 20,
     "metadata": {},
     "output_type": "execute_result"
    }
   ],
   "source": [
    "df['Date']"
   ]
  },
  {
   "cell_type": "code",
   "execution_count": 21,
   "metadata": {
    "collapsed": true
   },
   "outputs": [],
   "source": [
    "dfdate = pd.to_datetime(df['Date'])"
   ]
  },
  {
   "cell_type": "code",
   "execution_count": 22,
   "metadata": {
    "collapsed": true
   },
   "outputs": [],
   "source": [
    "colname='Close'"
   ]
  },
  {
   "cell_type": "code",
   "execution_count": 23,
   "metadata": {
    "collapsed": true
   },
   "outputs": [],
   "source": [
    "p = figure(title='Stock prices for %s' % symbol ,x_axis_label='date', x_axis_type='datetime')"
   ]
  },
  {
   "cell_type": "code",
   "execution_count": 24,
   "metadata": {
    "collapsed": false
   },
   "outputs": [
    {
     "data": {
      "text/html": [
       "<div style=\"display: table;\"><div style=\"display: table-row;\"><div style=\"display: table-cell;\"><b title=\"bokeh.models.renderers.GlyphRenderer\">GlyphRenderer</b>(</div><div style=\"display: table-cell;\">id&nbsp;=&nbsp;'9d15396b-ae9f-4440-a445-2cfdab27cc98', <span id=\"9d3ceda0-af27-4a91-85a0-c973320dd84f\" style=\"cursor: pointer;\">&hellip;)</span></div></div><div class=\"1eb37820-988c-4512-ab9d-c9faef28083b\" style=\"display: none;\"><div style=\"display: table-cell;\"></div><div style=\"display: table-cell;\">data_source&nbsp;=&nbsp;ColumnDataSource(id='bf2f01f4-81c5-4851-9e01-c446069d9404', ...),</div></div><div class=\"1eb37820-988c-4512-ab9d-c9faef28083b\" style=\"display: none;\"><div style=\"display: table-cell;\"></div><div style=\"display: table-cell;\">glyph&nbsp;=&nbsp;Line(id='6f18d75f-2ba7-4b7c-8079-14afc9bddb03', ...),</div></div><div class=\"1eb37820-988c-4512-ab9d-c9faef28083b\" style=\"display: none;\"><div style=\"display: table-cell;\"></div><div style=\"display: table-cell;\">hover_glyph&nbsp;=&nbsp;None,</div></div><div class=\"1eb37820-988c-4512-ab9d-c9faef28083b\" style=\"display: none;\"><div style=\"display: table-cell;\"></div><div style=\"display: table-cell;\">js_event_callbacks&nbsp;=&nbsp;{},</div></div><div class=\"1eb37820-988c-4512-ab9d-c9faef28083b\" style=\"display: none;\"><div style=\"display: table-cell;\"></div><div style=\"display: table-cell;\">js_property_callbacks&nbsp;=&nbsp;{},</div></div><div class=\"1eb37820-988c-4512-ab9d-c9faef28083b\" style=\"display: none;\"><div style=\"display: table-cell;\"></div><div style=\"display: table-cell;\">level&nbsp;=&nbsp;'glyph',</div></div><div class=\"1eb37820-988c-4512-ab9d-c9faef28083b\" style=\"display: none;\"><div style=\"display: table-cell;\"></div><div style=\"display: table-cell;\">muted&nbsp;=&nbsp;False,</div></div><div class=\"1eb37820-988c-4512-ab9d-c9faef28083b\" style=\"display: none;\"><div style=\"display: table-cell;\"></div><div style=\"display: table-cell;\">muted_glyph&nbsp;=&nbsp;None,</div></div><div class=\"1eb37820-988c-4512-ab9d-c9faef28083b\" style=\"display: none;\"><div style=\"display: table-cell;\"></div><div style=\"display: table-cell;\">name&nbsp;=&nbsp;None,</div></div><div class=\"1eb37820-988c-4512-ab9d-c9faef28083b\" style=\"display: none;\"><div style=\"display: table-cell;\"></div><div style=\"display: table-cell;\">nonselection_glyph&nbsp;=&nbsp;Line(id='c92590d9-8001-45ba-b2f3-c3ae919c6181', ...),</div></div><div class=\"1eb37820-988c-4512-ab9d-c9faef28083b\" style=\"display: none;\"><div style=\"display: table-cell;\"></div><div style=\"display: table-cell;\">selection_glyph&nbsp;=&nbsp;None,</div></div><div class=\"1eb37820-988c-4512-ab9d-c9faef28083b\" style=\"display: none;\"><div style=\"display: table-cell;\"></div><div style=\"display: table-cell;\">subscribed_events&nbsp;=&nbsp;[],</div></div><div class=\"1eb37820-988c-4512-ab9d-c9faef28083b\" style=\"display: none;\"><div style=\"display: table-cell;\"></div><div style=\"display: table-cell;\">tags&nbsp;=&nbsp;[],</div></div><div class=\"1eb37820-988c-4512-ab9d-c9faef28083b\" style=\"display: none;\"><div style=\"display: table-cell;\"></div><div style=\"display: table-cell;\">visible&nbsp;=&nbsp;True,</div></div><div class=\"1eb37820-988c-4512-ab9d-c9faef28083b\" style=\"display: none;\"><div style=\"display: table-cell;\"></div><div style=\"display: table-cell;\">x_range_name&nbsp;=&nbsp;'default',</div></div><div class=\"1eb37820-988c-4512-ab9d-c9faef28083b\" style=\"display: none;\"><div style=\"display: table-cell;\"></div><div style=\"display: table-cell;\">y_range_name&nbsp;=&nbsp;'default')</div></div></div>\n",
       "<script>\n",
       "(function() {\n",
       "  var expanded = false;\n",
       "  var ellipsis = document.getElementById(\"9d3ceda0-af27-4a91-85a0-c973320dd84f\");\n",
       "  ellipsis.addEventListener(\"click\", function() {\n",
       "    var rows = document.getElementsByClassName(\"1eb37820-988c-4512-ab9d-c9faef28083b\");\n",
       "    for (var i = 0; i < rows.length; i++) {\n",
       "      var el = rows[i];\n",
       "      el.style.display = expanded ? \"none\" : \"table-row\";\n",
       "    }\n",
       "    ellipsis.innerHTML = expanded ? \"&hellip;)\" : \"&lsaquo;&lsaquo;&lsaquo;\";\n",
       "    expanded = !expanded;\n",
       "  });\n",
       "})();\n",
       "</script>\n"
      ],
      "text/plain": [
       "GlyphRenderer(id='9d15396b-ae9f-4440-a445-2cfdab27cc98', ...)"
      ]
     },
     "execution_count": 24,
     "metadata": {},
     "output_type": "execute_result"
    }
   ],
   "source": [
    "p.line(x=dfdate.values, y=df['Close'].values, line_width=2, legend='Close')"
   ]
  },
  {
   "cell_type": "code",
   "execution_count": 26,
   "metadata": {
    "collapsed": false
   },
   "outputs": [],
   "source": [
    "from bokeh.plotting import figure, output_notebook, show"
   ]
  },
  {
   "cell_type": "code",
   "execution_count": 27,
   "metadata": {
    "collapsed": false
   },
   "outputs": [
    {
     "data": {
      "text/html": [
       "\n",
       "    <div class=\"bk-root\">\n",
       "        <a href=\"http://bokeh.pydata.org\" target=\"_blank\" class=\"bk-logo bk-logo-small bk-logo-notebook\"></a>\n",
       "        <span id=\"3fa27dea-9eee-4a2b-89b2-8d790e8b84d1\">Loading BokehJS ...</span>\n",
       "    </div>"
      ]
     },
     "metadata": {},
     "output_type": "display_data"
    },
    {
     "data": {
      "application/javascript": [
       "\n",
       "(function(global) {\n",
       "  function now() {\n",
       "    return new Date();\n",
       "  }\n",
       "\n",
       "  var force = true;\n",
       "\n",
       "  if (typeof (window._bokeh_onload_callbacks) === \"undefined\" || force === true) {\n",
       "    window._bokeh_onload_callbacks = [];\n",
       "    window._bokeh_is_loading = undefined;\n",
       "  }\n",
       "\n",
       "\n",
       "  \n",
       "  if (typeof (window._bokeh_timeout) === \"undefined\" || force === true) {\n",
       "    window._bokeh_timeout = Date.now() + 5000;\n",
       "    window._bokeh_failed_load = false;\n",
       "  }\n",
       "\n",
       "  var NB_LOAD_WARNING = {'data': {'text/html':\n",
       "     \"<div style='background-color: #fdd'>\\n\"+\n",
       "     \"<p>\\n\"+\n",
       "     \"BokehJS does not appear to have successfully loaded. If loading BokehJS from CDN, this \\n\"+\n",
       "     \"may be due to a slow or bad network connection. Possible fixes:\\n\"+\n",
       "     \"</p>\\n\"+\n",
       "     \"<ul>\\n\"+\n",
       "     \"<li>re-rerun `output_notebook()` to attempt to load from CDN again, or</li>\\n\"+\n",
       "     \"<li>use INLINE resources instead, as so:</li>\\n\"+\n",
       "     \"</ul>\\n\"+\n",
       "     \"<code>\\n\"+\n",
       "     \"from bokeh.resources import INLINE\\n\"+\n",
       "     \"output_notebook(resources=INLINE)\\n\"+\n",
       "     \"</code>\\n\"+\n",
       "     \"</div>\"}};\n",
       "\n",
       "  function display_loaded() {\n",
       "    if (window.Bokeh !== undefined) {\n",
       "      var el = document.getElementById(\"3fa27dea-9eee-4a2b-89b2-8d790e8b84d1\");\n",
       "      el.textContent = \"BokehJS \" + Bokeh.version + \" successfully loaded.\";\n",
       "    } else if (Date.now() < window._bokeh_timeout) {\n",
       "      setTimeout(display_loaded, 100)\n",
       "    }\n",
       "  }\n",
       "\n",
       "  function run_callbacks() {\n",
       "    window._bokeh_onload_callbacks.forEach(function(callback) { callback() });\n",
       "    delete window._bokeh_onload_callbacks\n",
       "    console.info(\"Bokeh: all callbacks have finished\");\n",
       "  }\n",
       "\n",
       "  function load_libs(js_urls, callback) {\n",
       "    window._bokeh_onload_callbacks.push(callback);\n",
       "    if (window._bokeh_is_loading > 0) {\n",
       "      console.log(\"Bokeh: BokehJS is being loaded, scheduling callback at\", now());\n",
       "      return null;\n",
       "    }\n",
       "    if (js_urls == null || js_urls.length === 0) {\n",
       "      run_callbacks();\n",
       "      return null;\n",
       "    }\n",
       "    console.log(\"Bokeh: BokehJS not loaded, scheduling load and callback at\", now());\n",
       "    window._bokeh_is_loading = js_urls.length;\n",
       "    for (var i = 0; i < js_urls.length; i++) {\n",
       "      var url = js_urls[i];\n",
       "      var s = document.createElement('script');\n",
       "      s.src = url;\n",
       "      s.async = false;\n",
       "      s.onreadystatechange = s.onload = function() {\n",
       "        window._bokeh_is_loading--;\n",
       "        if (window._bokeh_is_loading === 0) {\n",
       "          console.log(\"Bokeh: all BokehJS libraries loaded\");\n",
       "          run_callbacks()\n",
       "        }\n",
       "      };\n",
       "      s.onerror = function() {\n",
       "        console.warn(\"failed to load library \" + url);\n",
       "      };\n",
       "      console.log(\"Bokeh: injecting script tag for BokehJS library: \", url);\n",
       "      document.getElementsByTagName(\"head\")[0].appendChild(s);\n",
       "    }\n",
       "  };var element = document.getElementById(\"3fa27dea-9eee-4a2b-89b2-8d790e8b84d1\");\n",
       "  if (element == null) {\n",
       "    console.log(\"Bokeh: ERROR: autoload.js configured with elementid '3fa27dea-9eee-4a2b-89b2-8d790e8b84d1' but no matching script tag was found. \")\n",
       "    return false;\n",
       "  }\n",
       "\n",
       "  var js_urls = [\"https://cdn.pydata.org/bokeh/release/bokeh-0.12.5.min.js\", \"https://cdn.pydata.org/bokeh/release/bokeh-widgets-0.12.5.min.js\"];\n",
       "\n",
       "  var inline_js = [\n",
       "    function(Bokeh) {\n",
       "      Bokeh.set_log_level(\"info\");\n",
       "    },\n",
       "    \n",
       "    function(Bokeh) {\n",
       "      \n",
       "    },\n",
       "    \n",
       "    function(Bokeh) {\n",
       "      \n",
       "      document.getElementById(\"3fa27dea-9eee-4a2b-89b2-8d790e8b84d1\").textContent = \"BokehJS is loading...\";\n",
       "    },\n",
       "    function(Bokeh) {\n",
       "      console.log(\"Bokeh: injecting CSS: https://cdn.pydata.org/bokeh/release/bokeh-0.12.5.min.css\");\n",
       "      Bokeh.embed.inject_css(\"https://cdn.pydata.org/bokeh/release/bokeh-0.12.5.min.css\");\n",
       "      console.log(\"Bokeh: injecting CSS: https://cdn.pydata.org/bokeh/release/bokeh-widgets-0.12.5.min.css\");\n",
       "      Bokeh.embed.inject_css(\"https://cdn.pydata.org/bokeh/release/bokeh-widgets-0.12.5.min.css\");\n",
       "    }\n",
       "  ];\n",
       "\n",
       "  function run_inline_js() {\n",
       "    \n",
       "    if ((window.Bokeh !== undefined) || (force === true)) {\n",
       "      for (var i = 0; i < inline_js.length; i++) {\n",
       "        inline_js[i](window.Bokeh);\n",
       "      }if (force === true) {\n",
       "        display_loaded();\n",
       "      }} else if (Date.now() < window._bokeh_timeout) {\n",
       "      setTimeout(run_inline_js, 100);\n",
       "    } else if (!window._bokeh_failed_load) {\n",
       "      console.log(\"Bokeh: BokehJS failed to load within specified timeout.\");\n",
       "      window._bokeh_failed_load = true;\n",
       "    } else if (force !== true) {\n",
       "      var cell = $(document.getElementById(\"3fa27dea-9eee-4a2b-89b2-8d790e8b84d1\")).parents('.cell').data().cell;\n",
       "      cell.output_area.append_execute_result(NB_LOAD_WARNING)\n",
       "    }\n",
       "\n",
       "  }\n",
       "\n",
       "  if (window._bokeh_is_loading === 0) {\n",
       "    console.log(\"Bokeh: BokehJS loaded, going straight to plotting\");\n",
       "    run_inline_js();\n",
       "  } else {\n",
       "    load_libs(js_urls, function() {\n",
       "      console.log(\"Bokeh: BokehJS plotting callback run at\", now());\n",
       "      run_inline_js();\n",
       "    });\n",
       "  }\n",
       "}(this));"
      ]
     },
     "metadata": {},
     "output_type": "display_data"
    }
   ],
   "source": [
    "output_notebook()"
   ]
  },
  {
   "cell_type": "code",
   "execution_count": 28,
   "metadata": {
    "collapsed": false
   },
   "outputs": [
    {
     "data": {
      "text/html": [
       "\n",
       "\n",
       "    <div class=\"bk-root\">\n",
       "        <div class=\"bk-plotdiv\" id=\"6aa5d5ee-2848-42a5-9e3c-8a80346433c4\"></div>\n",
       "    </div>\n",
       "<script type=\"text/javascript\">\n",
       "  \n",
       "  (function(global) {\n",
       "    function now() {\n",
       "      return new Date();\n",
       "    }\n",
       "  \n",
       "    var force = false;\n",
       "  \n",
       "    if (typeof (window._bokeh_onload_callbacks) === \"undefined\" || force === true) {\n",
       "      window._bokeh_onload_callbacks = [];\n",
       "      window._bokeh_is_loading = undefined;\n",
       "    }\n",
       "  \n",
       "  \n",
       "    \n",
       "    if (typeof (window._bokeh_timeout) === \"undefined\" || force === true) {\n",
       "      window._bokeh_timeout = Date.now() + 0;\n",
       "      window._bokeh_failed_load = false;\n",
       "    }\n",
       "  \n",
       "    var NB_LOAD_WARNING = {'data': {'text/html':\n",
       "       \"<div style='background-color: #fdd'>\\n\"+\n",
       "       \"<p>\\n\"+\n",
       "       \"BokehJS does not appear to have successfully loaded. If loading BokehJS from CDN, this \\n\"+\n",
       "       \"may be due to a slow or bad network connection. Possible fixes:\\n\"+\n",
       "       \"</p>\\n\"+\n",
       "       \"<ul>\\n\"+\n",
       "       \"<li>re-rerun `output_notebook()` to attempt to load from CDN again, or</li>\\n\"+\n",
       "       \"<li>use INLINE resources instead, as so:</li>\\n\"+\n",
       "       \"</ul>\\n\"+\n",
       "       \"<code>\\n\"+\n",
       "       \"from bokeh.resources import INLINE\\n\"+\n",
       "       \"output_notebook(resources=INLINE)\\n\"+\n",
       "       \"</code>\\n\"+\n",
       "       \"</div>\"}};\n",
       "  \n",
       "    function display_loaded() {\n",
       "      if (window.Bokeh !== undefined) {\n",
       "        var el = document.getElementById(\"6aa5d5ee-2848-42a5-9e3c-8a80346433c4\");\n",
       "        el.textContent = \"BokehJS \" + Bokeh.version + \" successfully loaded.\";\n",
       "      } else if (Date.now() < window._bokeh_timeout) {\n",
       "        setTimeout(display_loaded, 100)\n",
       "      }\n",
       "    }\n",
       "  \n",
       "    function run_callbacks() {\n",
       "      window._bokeh_onload_callbacks.forEach(function(callback) { callback() });\n",
       "      delete window._bokeh_onload_callbacks\n",
       "      console.info(\"Bokeh: all callbacks have finished\");\n",
       "    }\n",
       "  \n",
       "    function load_libs(js_urls, callback) {\n",
       "      window._bokeh_onload_callbacks.push(callback);\n",
       "      if (window._bokeh_is_loading > 0) {\n",
       "        console.log(\"Bokeh: BokehJS is being loaded, scheduling callback at\", now());\n",
       "        return null;\n",
       "      }\n",
       "      if (js_urls == null || js_urls.length === 0) {\n",
       "        run_callbacks();\n",
       "        return null;\n",
       "      }\n",
       "      console.log(\"Bokeh: BokehJS not loaded, scheduling load and callback at\", now());\n",
       "      window._bokeh_is_loading = js_urls.length;\n",
       "      for (var i = 0; i < js_urls.length; i++) {\n",
       "        var url = js_urls[i];\n",
       "        var s = document.createElement('script');\n",
       "        s.src = url;\n",
       "        s.async = false;\n",
       "        s.onreadystatechange = s.onload = function() {\n",
       "          window._bokeh_is_loading--;\n",
       "          if (window._bokeh_is_loading === 0) {\n",
       "            console.log(\"Bokeh: all BokehJS libraries loaded\");\n",
       "            run_callbacks()\n",
       "          }\n",
       "        };\n",
       "        s.onerror = function() {\n",
       "          console.warn(\"failed to load library \" + url);\n",
       "        };\n",
       "        console.log(\"Bokeh: injecting script tag for BokehJS library: \", url);\n",
       "        document.getElementsByTagName(\"head\")[0].appendChild(s);\n",
       "      }\n",
       "    };var element = document.getElementById(\"6aa5d5ee-2848-42a5-9e3c-8a80346433c4\");\n",
       "    if (element == null) {\n",
       "      console.log(\"Bokeh: ERROR: autoload.js configured with elementid '6aa5d5ee-2848-42a5-9e3c-8a80346433c4' but no matching script tag was found. \")\n",
       "      return false;\n",
       "    }\n",
       "  \n",
       "    var js_urls = [];\n",
       "  \n",
       "    var inline_js = [\n",
       "      function(Bokeh) {\n",
       "        (function() {\n",
       "          var fn = function() {\n",
       "            var docs_json = {\"e11de8df-7b42-4b37-baf2-bbcdef85b1a0\":{\"roots\":{\"references\":[{\"attributes\":{\"plot\":{\"id\":\"047def2a-8b1c-4a54-891f-500780a2c630\",\"subtype\":\"Figure\",\"type\":\"Plot\"}},\"id\":\"d82f737b-d254-4e2b-b0be-999891a337c8\",\"type\":\"SaveTool\"},{\"attributes\":{\"bottom_units\":\"screen\",\"fill_alpha\":{\"value\":0.5},\"fill_color\":{\"value\":\"lightgrey\"},\"left_units\":\"screen\",\"level\":\"overlay\",\"line_alpha\":{\"value\":1.0},\"line_color\":{\"value\":\"black\"},\"line_dash\":[4,4],\"line_width\":{\"value\":2},\"plot\":null,\"render_mode\":\"css\",\"right_units\":\"screen\",\"top_units\":\"screen\"},\"id\":\"9650869c-a78c-4f92-839b-06c73493d321\",\"type\":\"BoxAnnotation\"},{\"attributes\":{\"plot\":{\"id\":\"047def2a-8b1c-4a54-891f-500780a2c630\",\"subtype\":\"Figure\",\"type\":\"Plot\"}},\"id\":\"884ce145-4f4d-4406-ba06-8f0b617a2009\",\"type\":\"HelpTool\"},{\"attributes\":{},\"id\":\"6ed6e0c9-bd44-440f-9793-0da75377a0e0\",\"type\":\"DatetimeTickFormatter\"},{\"attributes\":{\"below\":[{\"id\":\"12d34182-e868-49d8-aed8-b51cac126e79\",\"type\":\"DatetimeAxis\"}],\"left\":[{\"id\":\"5aa6ee36-a82d-4165-9b3a-8ff468c6ee4a\",\"type\":\"LinearAxis\"}],\"renderers\":[{\"id\":\"12d34182-e868-49d8-aed8-b51cac126e79\",\"type\":\"DatetimeAxis\"},{\"id\":\"2c5cc90b-3ae9-448f-a31a-705ec722ee7f\",\"type\":\"Grid\"},{\"id\":\"5aa6ee36-a82d-4165-9b3a-8ff468c6ee4a\",\"type\":\"LinearAxis\"},{\"id\":\"86653d23-04f1-46a0-8b70-5757ab04d6be\",\"type\":\"Grid\"},{\"id\":\"9650869c-a78c-4f92-839b-06c73493d321\",\"type\":\"BoxAnnotation\"},{\"id\":\"e92def65-a943-4346-aac5-d910b8597715\",\"type\":\"Legend\"},{\"id\":\"9d15396b-ae9f-4440-a445-2cfdab27cc98\",\"type\":\"GlyphRenderer\"}],\"title\":{\"id\":\"dca30eaf-589f-4071-a8a5-d64fa556ca84\",\"type\":\"Title\"},\"tool_events\":{\"id\":\"e85ea209-e227-49e6-844e-4f09bf3264e1\",\"type\":\"ToolEvents\"},\"toolbar\":{\"id\":\"d4881ff8-2cd0-4a36-8d64-612796dcae9a\",\"type\":\"Toolbar\"},\"x_range\":{\"id\":\"10457059-e676-49ef-8675-93878e6de429\",\"type\":\"DataRange1d\"},\"y_range\":{\"id\":\"b2616d77-b21f-432f-b0de-d9bd7feaac09\",\"type\":\"DataRange1d\"}},\"id\":\"047def2a-8b1c-4a54-891f-500780a2c630\",\"subtype\":\"Figure\",\"type\":\"Plot\"},{\"attributes\":{\"callback\":null,\"column_names\":[\"y\",\"x\"],\"data\":{\"x\":{\"__ndarray__\":\"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\",\"dtype\":\"float64\",\"shape\":[812]},\"y\":[\"942.31\",\"950.76\",\"953.4\",\"942.9\",\"949.83\",\"983.41\",\"981.08\",\"976.57\",\"983.68\",\"975.6\",\"966.95\",\"964.86\",\"975.88\",\"971.47\",\"969.54\",\"954.96\",\"948.82\",\"941.86\",\"934.01\",\"930.24\",\"919.62\",\"943.0\",\"937.08\",\"932.22\",\"930.6\",\"928.78\",\"932.17\",\"934.3\",\"927.13\",\"931.66\",\"927.04\",\"916.44\",\"912.57\",\"905.96\",\"874.25\",\"871.624\",\"872.3\",\"862.76\",\"843.19\",\"841.65\",\"838.21\",\"836.82\",\"837.17\",\"823.56\",\"824.32\",\"823.35\",\"824.73\",\"824.67\",\"827.88\",\"831.41\",\"834.57\",\"838.55\",\"829.56\",\"831.5\",\"831.41\",\"820.92\",\"819.51\",\"814.43\",\"817.58\",\"829.59\",\"830.46\",\"848.4\",\"852.12\",\"848.78\",\"847.2\",\"845.62\",\"845.54\",\"843.25\",\"838.68\",\"835.37\",\"831.91\",\"827.78\",\"829.08\",\"830.63\",\"835.24\",\"823.21\",\"829.28\",\"828.64\",\"831.33\",\"830.76\",\"831.66\",\"828.07\",\"824.16\",\"818.98\",\"820.45\",\"819.24\",\"813.67\",\"809.56\",\"808.38\",\"806.97\",\"801.34\",\"801.49\",\"798.53\",\"795.695\",\"796.79\",\"802.32\",\"823.31\",\"832.15\",\"835.67\",\"823.87\",\"819.31\",\"805.02\",\"802.175\",\"806.07\",\"804.61\",\"807.88\",\"806.36\",\"807.91\",\"804.79\",\"806.65\",\"806.15\",\"794.02\",\"786.9\",\"786.14\",\"771.82\",\"782.79\",\"785.05\",\"791.55\",\"789.91\",\"791.26\",\"794.56\",\"796.42\",\"794.2\",\"790.8\",\"797.85\",\"797.07\",\"796.1\",\"789.27\",\"789.29\",\"776.42\",\"771.19\",\"759.11\",\"762.52\",\"750.5\",\"747.92\",\"758.04\",\"770.84\",\"768.24\",\"761.68\",\"760.99\",\"768.27\",\"769.2\",\"760.54\",\"771.23\",\"764.48\",\"758.49\",\"736.08\",\"754.02\",\"762.56\",\"785.31\",\"790.51\",\"782.52\",\"762.02\",\"762.13\",\"768.7\",\"783.61\",\"784.54\",\"795.37\",\"795.35\",\"799.07\",\"807.67\",\"813.11\",\"799.37\",\"796.97\",\"801.56\",\"795.26\",\"779.96\",\"778.53\",\"778.19\",\"786.14\",\"783.07\",\"785.94\",\"775.08\",\"776.86\",\"776.47\",\"776.43\",\"772.56\",\"777.29\",\"775.01\",\"781.56\",\"783.01\",\"774.21\",\"786.9\",\"787.21\",\"776.22\",\"771.41\",\"765.7\",\"768.88\",\"771.76\",\"762.49\",\"759.69\",\"769.02\",\"759.66\",\"775.32\",\"780.35\",\"780.08\",\"771.46\",\"768.78\",\"767.05\",\"769.09\",\"772.15\",\"769.54\",\"769.41\",\"769.64\",\"772.08\",\"772.15\",\"775.42\",\"777.5\",\"779.91\",\"777.14\",\"782.44\",\"783.22\",\"784.85\",\"784.68\",\"784.26\",\"781.76\",\"782.22\",\"771.61\",\"773.18\",\"771.07\",\"772.88\",\"768.79\",\"745.91\",\"741.77\",\"738.42\",\"739.77\",\"742.74\",\"738.63\",\"741.19\",\"736.96\",\"733.78\",\"719.85\",\"720.95\",\"716.98\",\"720.64\",\"715.09\",\"705.63\",\"695.36\",\"697.77\",\"694.49\",\"699.21\",\"692.1\",\"684.11\",\"680.04\",\"668.26\",\"675.22\",\"701.87\",\"697.46\",\"695.94\",\"693.71\",\"691.72\",\"710.36\",\"718.92\",\"718.27\",\"718.36\",\"719.41\",\"728.58\",\"728.28\",\"716.65\",\"716.55\",\"722.34\",\"730.4\",\"734.15\",\"735.72\",\"732.66\",\"724.12\",\"725.27\",\"720.09\",\"704.24\",\"709.74\",\"700.32\",\"706.63\",\"706.23\",\"716.49\",\"710.83\",\"713.31\",\"715.29\",\"723.18\",\"712.9\",\"711.12\",\"701.43\",\"695.7\",\"692.36\",\"698.21\",\"693.01\",\"691.02\",\"705.84\",\"708.14\",\"723.15\",\"718.77\",\"759.14\",\"752.67\",\"753.93\",\"766.61\",\"759.0\",\"753.2\",\"751.72\",\"743.09\",\"736.1\",\"739.15\",\"740.28\",\"745.69\",\"737.8\",\"745.29\",\"749.91\",\"744.95\",\"750.53\",\"744.77\",\"733.53\",\"735.3\",\"738.06\",\"740.75\",\"742.09\",\"737.6\",\"737.78\",\"736.09\",\"728.33\",\"730.49\",\"726.82\",\"712.82\",\"705.24\",\"693.97\",\"695.16\",\"710.89\",\"712.42\",\"718.85\",\"718.81\",\"697.77\",\"705.07\",\"705.75\",\"699.56\",\"695.85\",\"706.46\",\"700.91\",\"697.35\",\"708.4\",\"691.0\",\"682.4\",\"683.11\",\"684.12\",\"678.11\",\"682.74\",\"683.57\",\"708.01\",\"726.95\",\"764.65\",\"752.0\",\"742.95\",\"730.96\",\"699.99\",\"713.04\",\"711.67\",\"725.25\",\"706.59\",\"698.45\",\"701.79\",\"694.45\",\"714.72\",\"700.56\",\"726.07\",\"716.03\",\"714.47\",\"726.39\",\"743.62\",\"742.58\",\"741.84\",\"758.88\",\"771.0\",\"776.6\",\"762.51\",\"748.4\",\"750.31\",\"750.0\",\"747.77\",\"739.31\",\"749.43\",\"758.09\",\"743.4\",\"747.77\",\"738.87\",\"749.46\",\"751.61\",\"762.37\",\"763.25\",\"766.81\",\"752.54\",\"762.38\",\"767.04\",\"742.6\",\"750.26\",\"748.15\",\"748.28\",\"755.98\",\"756.6\",\"738.41\",\"740.0\",\"725.3\",\"728.96\",\"717.0\",\"731.23\",\"735.4\",\"728.32\",\"724.89\",\"733.76\",\"731.25\",\"728.11\",\"722.16\",\"721.11\",\"710.81\",\"716.92\",\"712.95\",\"708.49\",\"712.78\",\"702.0\",\"651.79\",\"642.61\",\"650.28\",\"666.1\",\"662.2\",\"661.74\",\"651.16\",\"652.3\",\"646.67\",\"643.61\",\"639.16\",\"642.36\",\"645.44\",\"641.47\",\"626.91\",\"611.29\",\"608.42\",\"594.97\",\"594.89\",\"611.97\",\"625.8\",\"622.36\",\"622.69\",\"635.44\",\"629.25\",\"642.9\",\"635.98\",\"635.14\",\"623.24\",\"625.77\",\"621.35\",\"612.72\",\"614.66\",\"600.7\",\"606.25\",\"614.34\",\"597.79\",\"618.25\",\"630.38\",\"637.61\",\"628.62\",\"582.06\",\"589.61\",\"612.48\",\"646.83\",\"660.9\",\"656.13\",\"660.87\",\"657.12\",\"656.45\",\"659.56\",\"660.78\",\"633.73\",\"635.3\",\"642.68\",\"643.78\",\"629.25\",\"631.21\",\"625.61\",\"632.59\",\"631.93\",\"628.0\",\"627.26\",\"623.56\",\"644.28\",\"662.1\",\"662.3\",\"663.02\",\"672.93\",\"579.85\",\"560.22\",\"561.1\",\"546.55\",\"530.13\",\"520.68\",\"516.83\",\"525.02\",\"522.86\",\"523.4\",\"521.84\",\"520.51\",\"521.52\",\"531.69\",\"535.23\",\"537.84\",\"540.48\",\"538.19\",\"536.69\",\"536.73\",\"529.26\",\"528.15\",\"527.2\",\"532.33\",\"534.61\",\"536.69\",\"526.69\",\"526.83\",\"533.33\",\"536.7\",\"540.31\",\"539.18\",\"533.99\",\"532.11\",\"539.78\",\"539.79\",\"532.32\",\"540.11\",\"542.51\",\"539.27\",\"537.36\",\"532.3\",\"533.85\",\"538.4\",\"529.62\",\"529.04\",\"535.7\",\"538.22\",\"530.7\",\"524.22\",\"530.8\",\"540.78\",\"537.9\",\"537.34\",\"549.08\",\"553.68\",\"555.37\",\"565.06\",\"547.0\",\"539.365\",\"533.97\",\"535.38\",\"524.05\",\"533.8\",\"532.53\",\"530.39\",\"539.17\",\"540.01\",\"540.78\",\"541.61\",\"537.02\",\"536.765\",\"535.53\",\"542.56\",\"548.0\",\"552.03\",\"548.34\",\"555.17\",\"558.785\",\"570.19\",\"558.81\",\"560.36\",\"557.99\",\"559.5\",\"550.84\",\"554.51\",\"547.32\",\"555.51\",\"551.18\",\"555.01\",\"568.85\",\"567.685\",\"575.33\",\"573.37\",\"573.64\",\"571.34\",\"558.4\",\"555.48\",\"543.87\",\"536.09\",\"531.91\",\"538.95\",\"542.87\",\"539.7\",\"542.84\",\"549.01\",\"542.93\",\"535.97\",\"536.94\",\"527.83\",\"531.0\",\"527.58\",\"522.76\",\"529.24\",\"528.48\",\"534.52\",\"510.66\",\"510.0\",\"518.63\",\"535.21\",\"539.95\",\"534.39\",\"518.04\",\"506.9\",\"508.08\",\"501.79\",\"500.87\",\"496.18\",\"492.55\",\"496.17\",\"502.68\",\"501.1\",\"501.96\",\"513.87\",\"524.81\",\"526.4\",\"530.42\",\"530.33\",\"534.03\",\"528.77\",\"530.59\",\"524.87\",\"516.35\",\"511.1\",\"504.89\",\"495.39\",\"513.8\",\"518.66\",\"528.34\",\"526.06\",\"533.37\",\"526.98\",\"525.26\",\"537.31\",\"531.32\",\"533.75\",\"533.8\",\"541.83\",\"540.37\",\"541.08\",\"539.27\",\"537.5\",\"534.83\",\"536.99\",\"535.03\",\"536.51\",\"544.4\",\"545.38\",\"547.31\",\"550.29\",\"547.49\",\"541.01\",\"542.04\",\"545.92\",\"554.11\",\"555.22\",\"559.08\",\"550.31\",\"549.33\",\"548.9\",\"540.77\",\"539.78\",\"543.98\",\"532.71\",\"526.54\",\"520.84\",\"511.17\",\"524.51\",\"530.03\",\"537.94\",\"533.21\",\"544.49\",\"560.88\",\"572.5\",\"563.74\",\"577.35\",\"575.28\",\"570.08\",\"568.27\",\"577.36\",\"576.36\",\"577.1\",\"575.06\",\"587.99\",\"581.13\",\"587.37\",\"596.08\",\"589.27\",\"584.77\",\"579.95\",\"573.1\",\"575.62\",\"581.35\",\"583.1\",\"581.01\",\"589.72\",\"586.08\",\"581.98\",\"577.94\",\"577.33\",\"571.6\",\"569.2\",\"571.0\",\"577.86\",\"580.2\",\"582.56\",\"583.37\",\"584.49\",\"586.86\",\"582.16\",\"573.48\",\"574.65\",\"574.78\",\"562.73\",\"567.88\",\"568.77\",\"563.36\",\"566.374\",\"565.07\",\"573.15\",\"566.07\",\"571.6\",\"587.42\",\"585.61\",\"590.6\",\"589.02\",\"593.35\",\"595.98\",\"594.74\",\"589.47\",\"595.08\",\"573.7299\",\"582.66\",\"584.78\",\"584.87\",\"579.18\",\"571.1\",\"576.08\",\"571.09\",\"582.25\",\"584.73\",\"582.335\",\"582.67\",\"575.28\",\"577.24\",\"576.0\",\"578.65\",\"564.62\",\"564.95\",\"556.36\",\"554.9\",\"553.37\",\"543.01\",\"544.28\",\"551.76\",\"551.35\",\"558.84\",\"560.55\",\"562.12\",\"556.33\",\"553.9\",\"544.66\",\"544.94\",\"553.93\",\"559.89\",\"560.08\",\"561.68\",\"565.95\",\"552.7\",\"545.06\",\"538.94\",\"529.77\",\"528.86\",\"520.63\",\"519.98\",\"526.65\",\"533.09\",\"529.92\",\"518.73\",\"511.0\",\"509.96\",\"515.14\",\"527.81\",\"527.93\",\"531.35\",\"526.66\",\"527.7\",\"517.15\",\"516.18\",\"525.16\",\"526.94\",\"534.81\",\"528.62\",\"536.1\",\"556.54\",\"536.44\",\"532.52\",\"530.6\",\"540.95\",\"564.14\",\"554.9\",\"538.15\",\"543.14\",\"569.74\",\"567.0\",\"567.16\",\"556.97\",\"559.99\",\"558.46\"]}},\"id\":\"bf2f01f4-81c5-4851-9e01-c446069d9404\",\"type\":\"ColumnDataSource\"},{\"attributes\":{\"plot\":{\"id\":\"047def2a-8b1c-4a54-891f-500780a2c630\",\"subtype\":\"Figure\",\"type\":\"Plot\"}},\"id\":\"4c8d1bc5-b72b-411e-a534-8ffa7f26229f\",\"type\":\"WheelZoomTool\"},{\"attributes\":{},\"id\":\"e85ea209-e227-49e6-844e-4f09bf3264e1\",\"type\":\"ToolEvents\"},{\"attributes\":{\"max_interval\":500.0,\"num_minor_ticks\":0},\"id\":\"efe5af1e-9d6a-4ce9-a8a4-1073f6ab90bc\",\"type\":\"AdaptiveTicker\"},{\"attributes\":{\"active_drag\":\"auto\",\"active_scroll\":\"auto\",\"active_tap\":\"auto\",\"tools\":[{\"id\":\"e4d0a870-9a94-4907-a344-741e9dd12908\",\"type\":\"PanTool\"},{\"id\":\"4c8d1bc5-b72b-411e-a534-8ffa7f26229f\",\"type\":\"WheelZoomTool\"},{\"id\":\"686a6ba1-5523-417d-83f6-932682b223f5\",\"type\":\"BoxZoomTool\"},{\"id\":\"d82f737b-d254-4e2b-b0be-999891a337c8\",\"type\":\"SaveTool\"},{\"id\":\"3f540063-0703-42ea-a855-094e801caedf\",\"type\":\"ResetTool\"},{\"id\":\"884ce145-4f4d-4406-ba06-8f0b617a2009\",\"type\":\"HelpTool\"}]},\"id\":\"d4881ff8-2cd0-4a36-8d64-612796dcae9a\",\"type\":\"Toolbar\"},{\"attributes\":{},\"id\":\"a7fb381b-5c73-4ff2-817c-70f2131a7b30\",\"type\":\"BasicTicker\"},{\"attributes\":{\"months\":[0,4,8]},\"id\":\"9abc4980-ee5f-4650-a465-7f952b5d2e4e\",\"type\":\"MonthsTicker\"},{\"attributes\":{\"plot\":{\"id\":\"047def2a-8b1c-4a54-891f-500780a2c630\",\"subtype\":\"Figure\",\"type\":\"Plot\"}},\"id\":\"3f540063-0703-42ea-a855-094e801caedf\",\"type\":\"ResetTool\"},{\"attributes\":{\"plot\":null,\"text\":\"Stock prices for GOOG\"},\"id\":\"dca30eaf-589f-4071-a8a5-d64fa556ca84\",\"type\":\"Title\"},{\"attributes\":{\"days\":[1,8,15,22]},\"id\":\"00f7113a-0a6f-4d50-adeb-4b54e733010b\",\"type\":\"DaysTicker\"},{\"attributes\":{\"base\":60,\"mantissas\":[1,2,5,10,15,20,30],\"max_interval\":1800000.0,\"min_interval\":1000.0,\"num_minor_ticks\":0},\"id\":\"8145a955-da2e-48a3-ac2f-4e1c1f249c6f\",\"type\":\"AdaptiveTicker\"},{\"attributes\":{\"label\":{\"value\":\"Close\"},\"renderers\":[{\"id\":\"9d15396b-ae9f-4440-a445-2cfdab27cc98\",\"type\":\"GlyphRenderer\"}]},\"id\":\"b904fe21-b6d3-436c-9bb0-ad96483f5a41\",\"type\":\"LegendItem\"},{\"attributes\":{\"months\":[0,2,4,6,8,10]},\"id\":\"13926a80-5809-4244-b3fa-1d1bbee718e4\",\"type\":\"MonthsTicker\"},{\"attributes\":{\"overlay\":{\"id\":\"9650869c-a78c-4f92-839b-06c73493d321\",\"type\":\"BoxAnnotation\"},\"plot\":{\"id\":\"047def2a-8b1c-4a54-891f-500780a2c630\",\"subtype\":\"Figure\",\"type\":\"Plot\"}},\"id\":\"686a6ba1-5523-417d-83f6-932682b223f5\",\"type\":\"BoxZoomTool\"},{\"attributes\":{\"days\":[1,2,3,4,5,6,7,8,9,10,11,12,13,14,15,16,17,18,19,20,21,22,23,24,25,26,27,28,29,30,31]},\"id\":\"a0014eea-8dde-48d9-982e-81b49da43280\",\"type\":\"DaysTicker\"},{\"attributes\":{\"callback\":null},\"id\":\"10457059-e676-49ef-8675-93878e6de429\",\"type\":\"DataRange1d\"},{\"attributes\":{\"line_color\":{\"value\":\"#1f77b4\"},\"line_width\":{\"value\":2},\"x\":{\"field\":\"x\"},\"y\":{\"field\":\"y\"}},\"id\":\"6f18d75f-2ba7-4b7c-8079-14afc9bddb03\",\"type\":\"Line\"},{\"attributes\":{},\"id\":\"1a489d65-2e93-4790-962e-6a05c9bdedae\",\"type\":\"YearsTicker\"},{\"attributes\":{\"formatter\":{\"id\":\"6d0e6947-90fd-495d-a836-d75327e58f06\",\"type\":\"BasicTickFormatter\"},\"plot\":{\"id\":\"047def2a-8b1c-4a54-891f-500780a2c630\",\"subtype\":\"Figure\",\"type\":\"Plot\"},\"ticker\":{\"id\":\"a7fb381b-5c73-4ff2-817c-70f2131a7b30\",\"type\":\"BasicTicker\"}},\"id\":\"5aa6ee36-a82d-4165-9b3a-8ff468c6ee4a\",\"type\":\"LinearAxis\"},{\"attributes\":{},\"id\":\"6d0e6947-90fd-495d-a836-d75327e58f06\",\"type\":\"BasicTickFormatter\"},{\"attributes\":{\"num_minor_ticks\":5},\"id\":\"7c30f85c-c695-452f-aeb3-1ae8445cc491\",\"type\":\"DatetimeTicker\"},{\"attributes\":{\"plot\":{\"id\":\"047def2a-8b1c-4a54-891f-500780a2c630\",\"subtype\":\"Figure\",\"type\":\"Plot\"}},\"id\":\"e4d0a870-9a94-4907-a344-741e9dd12908\",\"type\":\"PanTool\"},{\"attributes\":{\"data_source\":{\"id\":\"bf2f01f4-81c5-4851-9e01-c446069d9404\",\"type\":\"ColumnDataSource\"},\"glyph\":{\"id\":\"6f18d75f-2ba7-4b7c-8079-14afc9bddb03\",\"type\":\"Line\"},\"hover_glyph\":null,\"muted_glyph\":null,\"nonselection_glyph\":{\"id\":\"c92590d9-8001-45ba-b2f3-c3ae919c6181\",\"type\":\"Line\"},\"selection_glyph\":null},\"id\":\"9d15396b-ae9f-4440-a445-2cfdab27cc98\",\"type\":\"GlyphRenderer\"},{\"attributes\":{\"plot\":{\"id\":\"047def2a-8b1c-4a54-891f-500780a2c630\",\"subtype\":\"Figure\",\"type\":\"Plot\"},\"ticker\":{\"id\":\"7c30f85c-c695-452f-aeb3-1ae8445cc491\",\"type\":\"DatetimeTicker\"}},\"id\":\"2c5cc90b-3ae9-448f-a31a-705ec722ee7f\",\"type\":\"Grid\"},{\"attributes\":{\"axis_label\":\"date\",\"formatter\":{\"id\":\"6ed6e0c9-bd44-440f-9793-0da75377a0e0\",\"type\":\"DatetimeTickFormatter\"},\"plot\":{\"id\":\"047def2a-8b1c-4a54-891f-500780a2c630\",\"subtype\":\"Figure\",\"type\":\"Plot\"},\"ticker\":{\"id\":\"7c30f85c-c695-452f-aeb3-1ae8445cc491\",\"type\":\"DatetimeTicker\"}},\"id\":\"12d34182-e868-49d8-aed8-b51cac126e79\",\"type\":\"DatetimeAxis\"},{\"attributes\":{\"months\":[0,1,2,3,4,5,6,7,8,9,10,11]},\"id\":\"6abcfa55-5300-4c28-b6e8-0b859a83ebcc\",\"type\":\"MonthsTicker\"},{\"attributes\":{\"days\":[1,4,7,10,13,16,19,22,25,28]},\"id\":\"262e0dda-3204-470f-a740-6da156c4d490\",\"type\":\"DaysTicker\"},{\"attributes\":{\"dimension\":1,\"plot\":{\"id\":\"047def2a-8b1c-4a54-891f-500780a2c630\",\"subtype\":\"Figure\",\"type\":\"Plot\"},\"ticker\":{\"id\":\"a7fb381b-5c73-4ff2-817c-70f2131a7b30\",\"type\":\"BasicTicker\"}},\"id\":\"86653d23-04f1-46a0-8b70-5757ab04d6be\",\"type\":\"Grid\"},{\"attributes\":{\"months\":[0,6]},\"id\":\"1bfedfd2-e5b9-4830-bf9a-d89164091fb5\",\"type\":\"MonthsTicker\"},{\"attributes\":{\"base\":24,\"mantissas\":[1,2,4,6,8,12],\"max_interval\":43200000.0,\"min_interval\":3600000.0,\"num_minor_ticks\":0},\"id\":\"3fd4380a-593e-4bce-80fd-7cd4b43910a2\",\"type\":\"AdaptiveTicker\"},{\"attributes\":{\"items\":[{\"id\":\"b904fe21-b6d3-436c-9bb0-ad96483f5a41\",\"type\":\"LegendItem\"}],\"plot\":{\"id\":\"047def2a-8b1c-4a54-891f-500780a2c630\",\"subtype\":\"Figure\",\"type\":\"Plot\"}},\"id\":\"e92def65-a943-4346-aac5-d910b8597715\",\"type\":\"Legend\"},{\"attributes\":{\"callback\":null},\"id\":\"b2616d77-b21f-432f-b0de-d9bd7feaac09\",\"type\":\"DataRange1d\"},{\"attributes\":{\"line_alpha\":{\"value\":0.1},\"line_color\":{\"value\":\"#1f77b4\"},\"line_width\":{\"value\":2},\"x\":{\"field\":\"x\"},\"y\":{\"field\":\"y\"}},\"id\":\"c92590d9-8001-45ba-b2f3-c3ae919c6181\",\"type\":\"Line\"},{\"attributes\":{\"days\":[1,15]},\"id\":\"11b6b97c-9389-4879-b7f6-34680aa779e8\",\"type\":\"DaysTicker\"}],\"root_ids\":[\"047def2a-8b1c-4a54-891f-500780a2c630\"]},\"title\":\"Bokeh Application\",\"version\":\"0.12.5\"}};\n",
       "            var render_items = [{\"docid\":\"e11de8df-7b42-4b37-baf2-bbcdef85b1a0\",\"elementid\":\"6aa5d5ee-2848-42a5-9e3c-8a80346433c4\",\"modelid\":\"047def2a-8b1c-4a54-891f-500780a2c630\"}];\n",
       "            \n",
       "            Bokeh.embed.embed_items(docs_json, render_items);\n",
       "          };\n",
       "          if (document.readyState != \"loading\") fn();\n",
       "          else document.addEventListener(\"DOMContentLoaded\", fn);\n",
       "        })();\n",
       "      },\n",
       "      function(Bokeh) {\n",
       "      }\n",
       "    ];\n",
       "  \n",
       "    function run_inline_js() {\n",
       "      \n",
       "      if ((window.Bokeh !== undefined) || (force === true)) {\n",
       "        for (var i = 0; i < inline_js.length; i++) {\n",
       "          inline_js[i](window.Bokeh);\n",
       "        }if (force === true) {\n",
       "          display_loaded();\n",
       "        }} else if (Date.now() < window._bokeh_timeout) {\n",
       "        setTimeout(run_inline_js, 100);\n",
       "      } else if (!window._bokeh_failed_load) {\n",
       "        console.log(\"Bokeh: BokehJS failed to load within specified timeout.\");\n",
       "        window._bokeh_failed_load = true;\n",
       "      } else if (force !== true) {\n",
       "        var cell = $(document.getElementById(\"6aa5d5ee-2848-42a5-9e3c-8a80346433c4\")).parents('.cell').data().cell;\n",
       "        cell.output_area.append_execute_result(NB_LOAD_WARNING)\n",
       "      }\n",
       "  \n",
       "    }\n",
       "  \n",
       "    if (window._bokeh_is_loading === 0) {\n",
       "      console.log(\"Bokeh: BokehJS loaded, going straight to plotting\");\n",
       "      run_inline_js();\n",
       "    } else {\n",
       "      load_libs(js_urls, function() {\n",
       "        console.log(\"Bokeh: BokehJS plotting callback run at\", now());\n",
       "        run_inline_js();\n",
       "      });\n",
       "    }\n",
       "  }(this));\n",
       "</script>"
      ]
     },
     "metadata": {},
     "output_type": "display_data"
    }
   ],
   "source": [
    "show(p)"
   ]
  },
  {
   "cell_type": "code",
   "execution_count": 46,
   "metadata": {
    "collapsed": false
   },
   "outputs": [],
   "source": [
    "p = figure(title='Stock prices for %s' % symbol ,x_axis_label='date', x_axis_type='datetime')"
   ]
  },
  {
   "cell_type": "code",
   "execution_count": 47,
   "metadata": {
    "collapsed": false
   },
   "outputs": [
    {
     "data": {
      "text/html": [
       "\n",
       "    <div class=\"bk-root\">\n",
       "        <a href=\"http://bokeh.pydata.org\" target=\"_blank\" class=\"bk-logo bk-logo-small bk-logo-notebook\"></a>\n",
       "        <span id=\"8640732f-4d3d-4c6f-bced-ddcfcbc40d54\">Loading BokehJS ...</span>\n",
       "    </div>"
      ]
     },
     "metadata": {},
     "output_type": "display_data"
    },
    {
     "data": {
      "application/javascript": [
       "\n",
       "(function(global) {\n",
       "  function now() {\n",
       "    return new Date();\n",
       "  }\n",
       "\n",
       "  var force = true;\n",
       "\n",
       "  if (typeof (window._bokeh_onload_callbacks) === \"undefined\" || force === true) {\n",
       "    window._bokeh_onload_callbacks = [];\n",
       "    window._bokeh_is_loading = undefined;\n",
       "  }\n",
       "\n",
       "\n",
       "  \n",
       "  if (typeof (window._bokeh_timeout) === \"undefined\" || force === true) {\n",
       "    window._bokeh_timeout = Date.now() + 5000;\n",
       "    window._bokeh_failed_load = false;\n",
       "  }\n",
       "\n",
       "  var NB_LOAD_WARNING = {'data': {'text/html':\n",
       "     \"<div style='background-color: #fdd'>\\n\"+\n",
       "     \"<p>\\n\"+\n",
       "     \"BokehJS does not appear to have successfully loaded. If loading BokehJS from CDN, this \\n\"+\n",
       "     \"may be due to a slow or bad network connection. Possible fixes:\\n\"+\n",
       "     \"</p>\\n\"+\n",
       "     \"<ul>\\n\"+\n",
       "     \"<li>re-rerun `output_notebook()` to attempt to load from CDN again, or</li>\\n\"+\n",
       "     \"<li>use INLINE resources instead, as so:</li>\\n\"+\n",
       "     \"</ul>\\n\"+\n",
       "     \"<code>\\n\"+\n",
       "     \"from bokeh.resources import INLINE\\n\"+\n",
       "     \"output_notebook(resources=INLINE)\\n\"+\n",
       "     \"</code>\\n\"+\n",
       "     \"</div>\"}};\n",
       "\n",
       "  function display_loaded() {\n",
       "    if (window.Bokeh !== undefined) {\n",
       "      var el = document.getElementById(\"8640732f-4d3d-4c6f-bced-ddcfcbc40d54\");\n",
       "      el.textContent = \"BokehJS \" + Bokeh.version + \" successfully loaded.\";\n",
       "    } else if (Date.now() < window._bokeh_timeout) {\n",
       "      setTimeout(display_loaded, 100)\n",
       "    }\n",
       "  }\n",
       "\n",
       "  function run_callbacks() {\n",
       "    window._bokeh_onload_callbacks.forEach(function(callback) { callback() });\n",
       "    delete window._bokeh_onload_callbacks\n",
       "    console.info(\"Bokeh: all callbacks have finished\");\n",
       "  }\n",
       "\n",
       "  function load_libs(js_urls, callback) {\n",
       "    window._bokeh_onload_callbacks.push(callback);\n",
       "    if (window._bokeh_is_loading > 0) {\n",
       "      console.log(\"Bokeh: BokehJS is being loaded, scheduling callback at\", now());\n",
       "      return null;\n",
       "    }\n",
       "    if (js_urls == null || js_urls.length === 0) {\n",
       "      run_callbacks();\n",
       "      return null;\n",
       "    }\n",
       "    console.log(\"Bokeh: BokehJS not loaded, scheduling load and callback at\", now());\n",
       "    window._bokeh_is_loading = js_urls.length;\n",
       "    for (var i = 0; i < js_urls.length; i++) {\n",
       "      var url = js_urls[i];\n",
       "      var s = document.createElement('script');\n",
       "      s.src = url;\n",
       "      s.async = false;\n",
       "      s.onreadystatechange = s.onload = function() {\n",
       "        window._bokeh_is_loading--;\n",
       "        if (window._bokeh_is_loading === 0) {\n",
       "          console.log(\"Bokeh: all BokehJS libraries loaded\");\n",
       "          run_callbacks()\n",
       "        }\n",
       "      };\n",
       "      s.onerror = function() {\n",
       "        console.warn(\"failed to load library \" + url);\n",
       "      };\n",
       "      console.log(\"Bokeh: injecting script tag for BokehJS library: \", url);\n",
       "      document.getElementsByTagName(\"head\")[0].appendChild(s);\n",
       "    }\n",
       "  };var element = document.getElementById(\"8640732f-4d3d-4c6f-bced-ddcfcbc40d54\");\n",
       "  if (element == null) {\n",
       "    console.log(\"Bokeh: ERROR: autoload.js configured with elementid '8640732f-4d3d-4c6f-bced-ddcfcbc40d54' but no matching script tag was found. \")\n",
       "    return false;\n",
       "  }\n",
       "\n",
       "  var js_urls = [\"https://cdn.pydata.org/bokeh/release/bokeh-0.12.5.min.js\", \"https://cdn.pydata.org/bokeh/release/bokeh-widgets-0.12.5.min.js\"];\n",
       "\n",
       "  var inline_js = [\n",
       "    function(Bokeh) {\n",
       "      Bokeh.set_log_level(\"info\");\n",
       "    },\n",
       "    \n",
       "    function(Bokeh) {\n",
       "      \n",
       "    },\n",
       "    \n",
       "    function(Bokeh) {\n",
       "      \n",
       "      document.getElementById(\"8640732f-4d3d-4c6f-bced-ddcfcbc40d54\").textContent = \"BokehJS is loading...\";\n",
       "    },\n",
       "    function(Bokeh) {\n",
       "      console.log(\"Bokeh: injecting CSS: https://cdn.pydata.org/bokeh/release/bokeh-0.12.5.min.css\");\n",
       "      Bokeh.embed.inject_css(\"https://cdn.pydata.org/bokeh/release/bokeh-0.12.5.min.css\");\n",
       "      console.log(\"Bokeh: injecting CSS: https://cdn.pydata.org/bokeh/release/bokeh-widgets-0.12.5.min.css\");\n",
       "      Bokeh.embed.inject_css(\"https://cdn.pydata.org/bokeh/release/bokeh-widgets-0.12.5.min.css\");\n",
       "    }\n",
       "  ];\n",
       "\n",
       "  function run_inline_js() {\n",
       "    \n",
       "    if ((window.Bokeh !== undefined) || (force === true)) {\n",
       "      for (var i = 0; i < inline_js.length; i++) {\n",
       "        inline_js[i](window.Bokeh);\n",
       "      }if (force === true) {\n",
       "        display_loaded();\n",
       "      }} else if (Date.now() < window._bokeh_timeout) {\n",
       "      setTimeout(run_inline_js, 100);\n",
       "    } else if (!window._bokeh_failed_load) {\n",
       "      console.log(\"Bokeh: BokehJS failed to load within specified timeout.\");\n",
       "      window._bokeh_failed_load = true;\n",
       "    } else if (force !== true) {\n",
       "      var cell = $(document.getElementById(\"8640732f-4d3d-4c6f-bced-ddcfcbc40d54\")).parents('.cell').data().cell;\n",
       "      cell.output_area.append_execute_result(NB_LOAD_WARNING)\n",
       "    }\n",
       "\n",
       "  }\n",
       "\n",
       "  if (window._bokeh_is_loading === 0) {\n",
       "    console.log(\"Bokeh: BokehJS loaded, going straight to plotting\");\n",
       "    run_inline_js();\n",
       "  } else {\n",
       "    load_libs(js_urls, function() {\n",
       "      console.log(\"Bokeh: BokehJS plotting callback run at\", now());\n",
       "      run_inline_js();\n",
       "    });\n",
       "  }\n",
       "}(this));"
      ]
     },
     "metadata": {},
     "output_type": "display_data"
    }
   ],
   "source": [
    "output_notebook()"
   ]
  },
  {
   "cell_type": "code",
   "execution_count": 48,
   "metadata": {
    "collapsed": false
   },
   "outputs": [],
   "source": [
    "colname='Adj. Open'"
   ]
  },
  {
   "cell_type": "code",
   "execution_count": 49,
   "metadata": {
    "collapsed": false
   },
   "outputs": [
    {
     "data": {
      "text/html": [
       "<div style=\"display: table;\"><div style=\"display: table-row;\"><div style=\"display: table-cell;\"><b title=\"bokeh.models.renderers.GlyphRenderer\">GlyphRenderer</b>(</div><div style=\"display: table-cell;\">id&nbsp;=&nbsp;'4c52978e-04c9-4c2d-906e-e60dbb64745b', <span id=\"d9eeea9a-deea-4813-a742-1650fa63b45f\" style=\"cursor: pointer;\">&hellip;)</span></div></div><div class=\"d08de38f-f0f9-42ed-b1c4-3e491e4e08fe\" style=\"display: none;\"><div style=\"display: table-cell;\"></div><div style=\"display: table-cell;\">data_source&nbsp;=&nbsp;ColumnDataSource(id='c59537fc-4d22-4ec5-b34e-24fc3ec0474f', ...),</div></div><div class=\"d08de38f-f0f9-42ed-b1c4-3e491e4e08fe\" style=\"display: none;\"><div style=\"display: table-cell;\"></div><div style=\"display: table-cell;\">glyph&nbsp;=&nbsp;Line(id='91440160-c0d2-41c9-89a6-44934b4d40d9', ...),</div></div><div class=\"d08de38f-f0f9-42ed-b1c4-3e491e4e08fe\" style=\"display: none;\"><div style=\"display: table-cell;\"></div><div style=\"display: table-cell;\">hover_glyph&nbsp;=&nbsp;None,</div></div><div class=\"d08de38f-f0f9-42ed-b1c4-3e491e4e08fe\" style=\"display: none;\"><div style=\"display: table-cell;\"></div><div style=\"display: table-cell;\">js_event_callbacks&nbsp;=&nbsp;{},</div></div><div class=\"d08de38f-f0f9-42ed-b1c4-3e491e4e08fe\" style=\"display: none;\"><div style=\"display: table-cell;\"></div><div style=\"display: table-cell;\">js_property_callbacks&nbsp;=&nbsp;{},</div></div><div class=\"d08de38f-f0f9-42ed-b1c4-3e491e4e08fe\" style=\"display: none;\"><div style=\"display: table-cell;\"></div><div style=\"display: table-cell;\">level&nbsp;=&nbsp;'glyph',</div></div><div class=\"d08de38f-f0f9-42ed-b1c4-3e491e4e08fe\" style=\"display: none;\"><div style=\"display: table-cell;\"></div><div style=\"display: table-cell;\">muted&nbsp;=&nbsp;False,</div></div><div class=\"d08de38f-f0f9-42ed-b1c4-3e491e4e08fe\" style=\"display: none;\"><div style=\"display: table-cell;\"></div><div style=\"display: table-cell;\">muted_glyph&nbsp;=&nbsp;None,</div></div><div class=\"d08de38f-f0f9-42ed-b1c4-3e491e4e08fe\" style=\"display: none;\"><div style=\"display: table-cell;\"></div><div style=\"display: table-cell;\">name&nbsp;=&nbsp;None,</div></div><div class=\"d08de38f-f0f9-42ed-b1c4-3e491e4e08fe\" style=\"display: none;\"><div style=\"display: table-cell;\"></div><div style=\"display: table-cell;\">nonselection_glyph&nbsp;=&nbsp;Line(id='89b4ae5d-7325-4f5b-9eaa-2bb5daac84bd', ...),</div></div><div class=\"d08de38f-f0f9-42ed-b1c4-3e491e4e08fe\" style=\"display: none;\"><div style=\"display: table-cell;\"></div><div style=\"display: table-cell;\">selection_glyph&nbsp;=&nbsp;None,</div></div><div class=\"d08de38f-f0f9-42ed-b1c4-3e491e4e08fe\" style=\"display: none;\"><div style=\"display: table-cell;\"></div><div style=\"display: table-cell;\">subscribed_events&nbsp;=&nbsp;[],</div></div><div class=\"d08de38f-f0f9-42ed-b1c4-3e491e4e08fe\" style=\"display: none;\"><div style=\"display: table-cell;\"></div><div style=\"display: table-cell;\">tags&nbsp;=&nbsp;[],</div></div><div class=\"d08de38f-f0f9-42ed-b1c4-3e491e4e08fe\" style=\"display: none;\"><div style=\"display: table-cell;\"></div><div style=\"display: table-cell;\">visible&nbsp;=&nbsp;True,</div></div><div class=\"d08de38f-f0f9-42ed-b1c4-3e491e4e08fe\" style=\"display: none;\"><div style=\"display: table-cell;\"></div><div style=\"display: table-cell;\">x_range_name&nbsp;=&nbsp;'default',</div></div><div class=\"d08de38f-f0f9-42ed-b1c4-3e491e4e08fe\" style=\"display: none;\"><div style=\"display: table-cell;\"></div><div style=\"display: table-cell;\">y_range_name&nbsp;=&nbsp;'default')</div></div></div>\n",
       "<script>\n",
       "(function() {\n",
       "  var expanded = false;\n",
       "  var ellipsis = document.getElementById(\"d9eeea9a-deea-4813-a742-1650fa63b45f\");\n",
       "  ellipsis.addEventListener(\"click\", function() {\n",
       "    var rows = document.getElementsByClassName(\"d08de38f-f0f9-42ed-b1c4-3e491e4e08fe\");\n",
       "    for (var i = 0; i < rows.length; i++) {\n",
       "      var el = rows[i];\n",
       "      el.style.display = expanded ? \"none\" : \"table-row\";\n",
       "    }\n",
       "    ellipsis.innerHTML = expanded ? \"&hellip;)\" : \"&lsaquo;&lsaquo;&lsaquo;\";\n",
       "    expanded = !expanded;\n",
       "  });\n",
       "})();\n",
       "</script>\n"
      ],
      "text/plain": [
       "GlyphRenderer(id='4c52978e-04c9-4c2d-906e-e60dbb64745b', ...)"
      ]
     },
     "execution_count": 49,
     "metadata": {},
     "output_type": "execute_result"
    }
   ],
   "source": [
    "p.line(x=dfdate.values, y=df[colname].values, line_width=2, line_color=\"purple\", legend=colname)"
   ]
  },
  {
   "cell_type": "code",
   "execution_count": 50,
   "metadata": {
    "collapsed": false
   },
   "outputs": [
    {
     "data": {
      "text/html": [
       "\n",
       "\n",
       "    <div class=\"bk-root\">\n",
       "        <div class=\"bk-plotdiv\" id=\"f819a10a-177a-48c7-99c8-52ccd01632e5\"></div>\n",
       "    </div>\n",
       "<script type=\"text/javascript\">\n",
       "  \n",
       "  (function(global) {\n",
       "    function now() {\n",
       "      return new Date();\n",
       "    }\n",
       "  \n",
       "    var force = false;\n",
       "  \n",
       "    if (typeof (window._bokeh_onload_callbacks) === \"undefined\" || force === true) {\n",
       "      window._bokeh_onload_callbacks = [];\n",
       "      window._bokeh_is_loading = undefined;\n",
       "    }\n",
       "  \n",
       "  \n",
       "    \n",
       "    if (typeof (window._bokeh_timeout) === \"undefined\" || force === true) {\n",
       "      window._bokeh_timeout = Date.now() + 0;\n",
       "      window._bokeh_failed_load = false;\n",
       "    }\n",
       "  \n",
       "    var NB_LOAD_WARNING = {'data': {'text/html':\n",
       "       \"<div style='background-color: #fdd'>\\n\"+\n",
       "       \"<p>\\n\"+\n",
       "       \"BokehJS does not appear to have successfully loaded. If loading BokehJS from CDN, this \\n\"+\n",
       "       \"may be due to a slow or bad network connection. Possible fixes:\\n\"+\n",
       "       \"</p>\\n\"+\n",
       "       \"<ul>\\n\"+\n",
       "       \"<li>re-rerun `output_notebook()` to attempt to load from CDN again, or</li>\\n\"+\n",
       "       \"<li>use INLINE resources instead, as so:</li>\\n\"+\n",
       "       \"</ul>\\n\"+\n",
       "       \"<code>\\n\"+\n",
       "       \"from bokeh.resources import INLINE\\n\"+\n",
       "       \"output_notebook(resources=INLINE)\\n\"+\n",
       "       \"</code>\\n\"+\n",
       "       \"</div>\"}};\n",
       "  \n",
       "    function display_loaded() {\n",
       "      if (window.Bokeh !== undefined) {\n",
       "        var el = document.getElementById(\"f819a10a-177a-48c7-99c8-52ccd01632e5\");\n",
       "        el.textContent = \"BokehJS \" + Bokeh.version + \" successfully loaded.\";\n",
       "      } else if (Date.now() < window._bokeh_timeout) {\n",
       "        setTimeout(display_loaded, 100)\n",
       "      }\n",
       "    }\n",
       "  \n",
       "    function run_callbacks() {\n",
       "      window._bokeh_onload_callbacks.forEach(function(callback) { callback() });\n",
       "      delete window._bokeh_onload_callbacks\n",
       "      console.info(\"Bokeh: all callbacks have finished\");\n",
       "    }\n",
       "  \n",
       "    function load_libs(js_urls, callback) {\n",
       "      window._bokeh_onload_callbacks.push(callback);\n",
       "      if (window._bokeh_is_loading > 0) {\n",
       "        console.log(\"Bokeh: BokehJS is being loaded, scheduling callback at\", now());\n",
       "        return null;\n",
       "      }\n",
       "      if (js_urls == null || js_urls.length === 0) {\n",
       "        run_callbacks();\n",
       "        return null;\n",
       "      }\n",
       "      console.log(\"Bokeh: BokehJS not loaded, scheduling load and callback at\", now());\n",
       "      window._bokeh_is_loading = js_urls.length;\n",
       "      for (var i = 0; i < js_urls.length; i++) {\n",
       "        var url = js_urls[i];\n",
       "        var s = document.createElement('script');\n",
       "        s.src = url;\n",
       "        s.async = false;\n",
       "        s.onreadystatechange = s.onload = function() {\n",
       "          window._bokeh_is_loading--;\n",
       "          if (window._bokeh_is_loading === 0) {\n",
       "            console.log(\"Bokeh: all BokehJS libraries loaded\");\n",
       "            run_callbacks()\n",
       "          }\n",
       "        };\n",
       "        s.onerror = function() {\n",
       "          console.warn(\"failed to load library \" + url);\n",
       "        };\n",
       "        console.log(\"Bokeh: injecting script tag for BokehJS library: \", url);\n",
       "        document.getElementsByTagName(\"head\")[0].appendChild(s);\n",
       "      }\n",
       "    };var element = document.getElementById(\"f819a10a-177a-48c7-99c8-52ccd01632e5\");\n",
       "    if (element == null) {\n",
       "      console.log(\"Bokeh: ERROR: autoload.js configured with elementid 'f819a10a-177a-48c7-99c8-52ccd01632e5' but no matching script tag was found. \")\n",
       "      return false;\n",
       "    }\n",
       "  \n",
       "    var js_urls = [];\n",
       "  \n",
       "    var inline_js = [\n",
       "      function(Bokeh) {\n",
       "        (function() {\n",
       "          var fn = function() {\n",
       "            var docs_json = {\"e11a30b8-1394-4ad2-a582-30ee98673f2c\":{\"roots\":{\"references\":[{\"attributes\":{\"months\":[0,4,8]},\"id\":\"77a63460-9cc7-4f15-a543-e09e5d3718ca\",\"type\":\"MonthsTicker\"},{\"attributes\":{\"base\":60,\"mantissas\":[1,2,5,10,15,20,30],\"max_interval\":1800000.0,\"min_interval\":1000.0,\"num_minor_ticks\":0},\"id\":\"a96881d0-fcf4-4185-b649-0f22d5bcb6a9\",\"type\":\"AdaptiveTicker\"},{\"attributes\":{\"plot\":{\"id\":\"9625ad03-285e-4870-866f-e426273fce53\",\"subtype\":\"Figure\",\"type\":\"Plot\"}},\"id\":\"d885c3bf-d16f-46f8-8643-1ab075af4ff3\",\"type\":\"SaveTool\"},{\"attributes\":{\"bottom_units\":\"screen\",\"fill_alpha\":{\"value\":0.5},\"fill_color\":{\"value\":\"lightgrey\"},\"left_units\":\"screen\",\"level\":\"overlay\",\"line_alpha\":{\"value\":1.0},\"line_color\":{\"value\":\"black\"},\"line_dash\":[4,4],\"line_width\":{\"value\":2},\"plot\":null,\"render_mode\":\"css\",\"right_units\":\"screen\",\"top_units\":\"screen\"},\"id\":\"a45d7a28-2535-447e-b810-c2331ecf1655\",\"type\":\"BoxAnnotation\"},{\"attributes\":{\"callback\":null},\"id\":\"7a67fd97-62fa-4d7a-b483-d49ae377e5b3\",\"type\":\"DataRange1d\"},{\"attributes\":{\"plot\":{\"id\":\"9625ad03-285e-4870-866f-e426273fce53\",\"subtype\":\"Figure\",\"type\":\"Plot\"}},\"id\":\"8e477b44-9a32-4e4c-bbc6-a263d891a9ee\",\"type\":\"WheelZoomTool\"},{\"attributes\":{\"items\":[{\"id\":\"d71dfe79-c188-4e63-8099-394b463f2db2\",\"type\":\"LegendItem\"}],\"plot\":{\"id\":\"9625ad03-285e-4870-866f-e426273fce53\",\"subtype\":\"Figure\",\"type\":\"Plot\"}},\"id\":\"ed64cc6d-0c9e-4fb8-92c9-43a77a6406e5\",\"type\":\"Legend\"},{\"attributes\":{\"days\":[1,15]},\"id\":\"8a02532d-9b34-4d49-8a66-b930dde257aa\",\"type\":\"DaysTicker\"},{\"attributes\":{\"plot\":{\"id\":\"9625ad03-285e-4870-866f-e426273fce53\",\"subtype\":\"Figure\",\"type\":\"Plot\"}},\"id\":\"a5355aa4-4824-4ff0-ba41-d19f9bf98fa3\",\"type\":\"ResetTool\"},{\"attributes\":{\"base\":24,\"mantissas\":[1,2,4,6,8,12],\"max_interval\":43200000.0,\"min_interval\":3600000.0,\"num_minor_ticks\":0},\"id\":\"01f86600-5914-4ee5-967f-73fac7aa9ef8\",\"type\":\"AdaptiveTicker\"},{\"attributes\":{\"data_source\":{\"id\":\"c59537fc-4d22-4ec5-b34e-24fc3ec0474f\",\"type\":\"ColumnDataSource\"},\"glyph\":{\"id\":\"91440160-c0d2-41c9-89a6-44934b4d40d9\",\"type\":\"Line\"},\"hover_glyph\":null,\"muted_glyph\":null,\"nonselection_glyph\":{\"id\":\"89b4ae5d-7325-4f5b-9eaa-2bb5daac84bd\",\"type\":\"Line\"},\"selection_glyph\":null},\"id\":\"4c52978e-04c9-4c2d-906e-e60dbb64745b\",\"type\":\"GlyphRenderer\"},{\"attributes\":{},\"id\":\"ed768725-29bd-4c68-9e37-363495bda022\",\"type\":\"BasicTickFormatter\"},{\"attributes\":{\"active_drag\":\"auto\",\"active_scroll\":\"auto\",\"active_tap\":\"auto\",\"tools\":[{\"id\":\"e2533dca-491a-4bd0-ac75-f44c3c167fc7\",\"type\":\"PanTool\"},{\"id\":\"8e477b44-9a32-4e4c-bbc6-a263d891a9ee\",\"type\":\"WheelZoomTool\"},{\"id\":\"a5baf529-ef06-41a6-9d6f-c490bd32204a\",\"type\":\"BoxZoomTool\"},{\"id\":\"d885c3bf-d16f-46f8-8643-1ab075af4ff3\",\"type\":\"SaveTool\"},{\"id\":\"a5355aa4-4824-4ff0-ba41-d19f9bf98fa3\",\"type\":\"ResetTool\"},{\"id\":\"00c58e22-f5a9-404b-b7e3-09dbb4907ab5\",\"type\":\"HelpTool\"}]},\"id\":\"94c22e7b-5713-4ace-8bf0-86aaff41bce7\",\"type\":\"Toolbar\"},{\"attributes\":{\"num_minor_ticks\":5},\"id\":\"4a537638-a1d6-4f31-aa7b-0431891f6fc9\",\"type\":\"DatetimeTicker\"},{\"attributes\":{\"below\":[{\"id\":\"38858115-d1f6-4021-ae60-983cff9b0c86\",\"type\":\"DatetimeAxis\"}],\"left\":[{\"id\":\"8042ee4b-618a-4547-8257-3af4e1089a5f\",\"type\":\"LinearAxis\"}],\"renderers\":[{\"id\":\"38858115-d1f6-4021-ae60-983cff9b0c86\",\"type\":\"DatetimeAxis\"},{\"id\":\"d7913503-1df0-4837-9dd3-d23e80385c44\",\"type\":\"Grid\"},{\"id\":\"8042ee4b-618a-4547-8257-3af4e1089a5f\",\"type\":\"LinearAxis\"},{\"id\":\"7f231db2-5eb7-4a15-a484-db225172c502\",\"type\":\"Grid\"},{\"id\":\"a45d7a28-2535-447e-b810-c2331ecf1655\",\"type\":\"BoxAnnotation\"},{\"id\":\"ed64cc6d-0c9e-4fb8-92c9-43a77a6406e5\",\"type\":\"Legend\"},{\"id\":\"4c52978e-04c9-4c2d-906e-e60dbb64745b\",\"type\":\"GlyphRenderer\"}],\"title\":{\"id\":\"bf08574f-b802-48be-9200-b1461920ebaa\",\"type\":\"Title\"},\"tool_events\":{\"id\":\"e191b9cc-8aa6-4fc8-ad10-3c6ef2f96f99\",\"type\":\"ToolEvents\"},\"toolbar\":{\"id\":\"94c22e7b-5713-4ace-8bf0-86aaff41bce7\",\"type\":\"Toolbar\"},\"x_range\":{\"id\":\"41e37c68-6220-4292-abe3-3255e2a5180b\",\"type\":\"DataRange1d\"},\"y_range\":{\"id\":\"7a67fd97-62fa-4d7a-b483-d49ae377e5b3\",\"type\":\"DataRange1d\"}},\"id\":\"9625ad03-285e-4870-866f-e426273fce53\",\"subtype\":\"Figure\",\"type\":\"Plot\"},{\"attributes\":{},\"id\":\"3272f9f1-5122-4110-90dd-f7b8eb875780\",\"type\":\"YearsTicker\"},{\"attributes\":{\"line_alpha\":{\"value\":0.1},\"line_color\":{\"value\":\"#1f77b4\"},\"line_width\":{\"value\":2},\"x\":{\"field\":\"x\"},\"y\":{\"field\":\"y\"}},\"id\":\"89b4ae5d-7325-4f5b-9eaa-2bb5daac84bd\",\"type\":\"Line\"},{\"attributes\":{\"plot\":{\"id\":\"9625ad03-285e-4870-866f-e426273fce53\",\"subtype\":\"Figure\",\"type\":\"Plot\"}},\"id\":\"00c58e22-f5a9-404b-b7e3-09dbb4907ab5\",\"type\":\"HelpTool\"},{\"attributes\":{\"max_interval\":500.0,\"num_minor_ticks\":0},\"id\":\"fac0c4a8-7232-4332-b92e-e00adddb0fe6\",\"type\":\"AdaptiveTicker\"},{\"attributes\":{\"days\":[1,8,15,22]},\"id\":\"a3d52711-694e-44b9-8b5b-e076c1c4323a\",\"type\":\"DaysTicker\"},{\"attributes\":{},\"id\":\"fbae54d9-ec95-432b-8240-04944df5d3bc\",\"type\":\"BasicTicker\"},{\"attributes\":{\"plot\":{\"id\":\"9625ad03-285e-4870-866f-e426273fce53\",\"subtype\":\"Figure\",\"type\":\"Plot\"},\"ticker\":{\"id\":\"4a537638-a1d6-4f31-aa7b-0431891f6fc9\",\"type\":\"DatetimeTicker\"}},\"id\":\"d7913503-1df0-4837-9dd3-d23e80385c44\",\"type\":\"Grid\"},{\"attributes\":{\"axis_label\":\"date\",\"formatter\":{\"id\":\"0fe6afb8-cc0f-4f3d-9799-b4bf5815a62d\",\"type\":\"DatetimeTickFormatter\"},\"plot\":{\"id\":\"9625ad03-285e-4870-866f-e426273fce53\",\"subtype\":\"Figure\",\"type\":\"Plot\"},\"ticker\":{\"id\":\"4a537638-a1d6-4f31-aa7b-0431891f6fc9\",\"type\":\"DatetimeTicker\"}},\"id\":\"38858115-d1f6-4021-ae60-983cff9b0c86\",\"type\":\"DatetimeAxis\"},{\"attributes\":{\"days\":[1,2,3,4,5,6,7,8,9,10,11,12,13,14,15,16,17,18,19,20,21,22,23,24,25,26,27,28,29,30,31]},\"id\":\"f589da1b-2d90-458b-a6d9-b1c6b3db163a\",\"type\":\"DaysTicker\"},{\"attributes\":{\"label\":{\"value\":\"Adj. Open\"},\"renderers\":[{\"id\":\"4c52978e-04c9-4c2d-906e-e60dbb64745b\",\"type\":\"GlyphRenderer\"}]},\"id\":\"d71dfe79-c188-4e63-8099-394b463f2db2\",\"type\":\"LegendItem\"},{\"attributes\":{\"plot\":null,\"text\":\"Stock prices for GOOG\"},\"id\":\"bf08574f-b802-48be-9200-b1461920ebaa\",\"type\":\"Title\"},{\"attributes\":{\"callback\":null,\"column_names\":[\"x\",\"y\"],\"data\":{\"x\":{\"__ndarray__\":\"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\",\"dtype\":\"float64\",\"shape\":[812]},\"y\":[\"933.97\",\"959.92\",\"951.91\",\"939.56\",\"984.5\",\"982.35\",\"979.65\",\"983.16\",\"976.55\",\"969.46\",\"968.95\",\"975.02\",\"970.31\",\"969.7\",\"957.33\",\"952.98\",\"947.92\",\"935.0\",\"931.47\",\"921.0\",\"935.67\",\"940.0\",\"932.95\",\"931.53\",\"925.32\",\"931.98\",\"936.95\",\"926.12\",\"933.54\",\"926.07\",\"914.86\",\"909.62\",\"901.94\",\"910.66\",\"873.6\",\"874.23\",\"865.0\",\"851.2\",\"842.88\",\"841.44\",\"839.79\",\"834.22\",\"825.01\",\"822.14\",\"821.93\",\"824.71\",\"825.39\",\"827.96\",\"832.4\",\"835.51\",\"831.36\",\"829.22\",\"828.97\",\"833.5\",\"825.0\",\"820.41\",\"806.95\",\"820.08\",\"821.0\",\"831.91\",\"851.4\",\"850.01\",\"851.61\",\"849.03\",\"847.59\",\"843.64\",\"844.0\",\"843.28\",\"836.0\",\"833.51\",\"827.4\",\"826.95\",\"830.56\",\"833.85\",\"828.85\",\"825.61\",\"824.55\",\"827.73\",\"830.12\",\"828.66\",\"828.66\",\"823.02\",\"819.93\",\"819.36\",\"819.0\",\"816.0\",\"811.7\",\"809.51\",\"807.0\",\"803.99\",\"799.7\",\"802.99\",\"793.8\",\"799.68\",\"796.86\",\"814.66\",\"834.71\",\"837.81\",\"829.62\",\"822.3\",\"807.25\",\"806.91\",\"805.12\",\"805.81\",\"807.08\",\"807.48\",\"807.14\",\"805.0\",\"807.86\",\"806.4\",\"795.26\",\"786.08\",\"788.36\",\"778.81\",\"782.75\",\"783.33\",\"793.7\",\"790.68\",\"790.9\",\"792.36\",\"795.84\",\"796.76\",\"790.22\",\"800.4\",\"797.34\",\"797.4\",\"793.9\",\"785.04\",\"780.0\",\"772.48\",\"761.0\",\"764.73\",\"757.71\",\"744.59\",\"757.44\",\"770.07\",\"771.53\",\"760.0\",\"764.26\",\"767.73\",\"772.63\",\"762.61\",\"771.37\",\"766.92\",\"755.2\",\"746.97\",\"755.6\",\"756.54\",\"791.17\",\"779.94\",\"783.4\",\"774.5\",\"750.66\",\"767.25\",\"778.2\",\"782.89\",\"795.47\",\"808.35\",\"801.0\",\"806.34\",\"816.68\",\"804.9\",\"795.0\",\"803.3\",\"798.86\",\"787.85\",\"779.8\",\"781.65\",\"781.22\",\"783.76\",\"786.66\",\"777.71\",\"779.66\",\"779.0\",\"779.31\",\"776.03\",\"774.25\",\"776.33\",\"781.44\",\"777.85\",\"775.5\",\"782.74\",\"786.59\",\"780.0\",\"772.66\",\"769.0\",\"772.42\",\"769.75\",\"762.89\",\"759.61\",\"764.48\",\"755.13\",\"770.1\",\"778.59\",\"780.0\",\"773.45\",\"773.01\",\"769.25\",\"767.01\",\"769.33\",\"768.74\",\"769.0\",\"767.0\",\"770.58\",\"775.48\",\"773.27\",\"775.0\",\"780.01\",\"777.32\",\"780.3\",\"783.75\",\"781.5\",\"785.0\",\"783.75\",\"781.1\",\"782.0\",\"773.78\",\"772.22\",\"767.18\",\"768.69\",\"761.09\",\"772.71\",\"747.04\",\"738.28\",\"739.04\",\"740.67\",\"741.86\",\"740.36\",\"737.33\",\"729.89\",\"722.71\",\"725.73\",\"721.58\",\"723.62\",\"719.12\",\"708.05\",\"699.5\",\"698.08\",\"689.98\",\"696.06\",\"692.2\",\"685.47\",\"683.0\",\"678.97\",\"671.0\",\"675.17\",\"697.45\",\"699.06\",\"698.4\",\"698.77\",\"708.65\",\"714.91\",\"719.0\",\"716.48\",\"716.51\",\"719.47\",\"722.87\",\"723.96\",\"719.84\",\"724.91\",\"729.27\",\"732.5\",\"734.53\",\"731.74\",\"724.01\",\"722.87\",\"720.76\",\"706.86\",\"706.53\",\"701.62\",\"702.36\",\"703.67\",\"715.99\",\"709.13\",\"711.93\",\"717.06\",\"723.41\",\"716.75\",\"712.0\",\"698.38\",\"697.7\",\"690.49\",\"696.87\",\"697.63\",\"690.7\",\"708.26\",\"707.29\",\"725.42\",\"716.1\",\"726.3\",\"755.38\",\"758.0\",\"769.51\",\"760.46\",\"753.98\",\"754.01\",\"749.16\",\"738.0\",\"743.02\",\"743.97\",\"745.37\",\"735.77\",\"738.0\",\"750.06\",\"738.6\",\"749.25\",\"750.1\",\"734.59\",\"736.79\",\"732.01\",\"742.36\",\"737.46\",\"736.5\",\"741.86\",\"736.45\",\"726.37\",\"726.92\",\"726.81\",\"720.0\",\"708.12\",\"698.47\",\"688.59\",\"706.9\",\"714.99\",\"718.68\",\"719.0\",\"703.62\",\"700.32\",\"708.58\",\"700.01\",\"688.92\",\"701.45\",\"707.45\",\"695.03\",\"710.0\",\"699.0\",\"692.98\",\"690.26\",\"675.0\",\"686.86\",\"672.32\",\"667.85\",\"703.87\",\"722.81\",\"770.22\",\"784.5\",\"750.46\",\"731.53\",\"722.22\",\"713.67\",\"713.85\",\"723.58\",\"723.6\",\"702.18\",\"688.61\",\"703.3\",\"692.29\",\"705.38\",\"730.85\",\"721.68\",\"716.61\",\"731.45\",\"730.31\",\"730.0\",\"746.45\",\"743.0\",\"769.5\",\"776.6\",\"766.69\",\"752.92\",\"749.55\",\"753.47\",\"751.65\",\"746.13\",\"746.51\",\"762.42\",\"750.0\",\"753.0\",\"741.79\",\"741.16\",\"752.85\",\"759.17\",\"757.89\",\"767.77\",\"753.1\",\"766.01\",\"768.9\",\"747.11\",\"748.81\",\"748.46\",\"748.14\",\"752.0\",\"757.45\",\"746.53\",\"738.74\",\"727.58\",\"729.29\",\"715.6\",\"729.17\",\"731.0\",\"732.46\",\"724.4\",\"730.2\",\"731.5\",\"729.47\",\"722.0\",\"718.86\",\"711.06\",\"715.73\",\"710.5\",\"707.33\",\"707.38\",\"701.55\",\"727.5\",\"646.7\",\"654.15\",\"664.04\",\"661.18\",\"664.11\",\"654.66\",\"653.21\",\"643.15\",\"642.09\",\"640.0\",\"641.36\",\"649.24\",\"638.84\",\"632.0\",\"607.2\",\"608.37\",\"603.28\",\"597.28\",\"610.34\",\"629.77\",\"616.64\",\"622.05\",\"627.0\",\"634.4\",\"636.79\",\"637.79\",\"635.47\",\"626.7\",\"625.7\",\"619.75\",\"613.1\",\"621.22\",\"612.49\",\"600.0\",\"617.0\",\"605.68\",\"602.36\",\"627.54\",\"632.82\",\"639.4\",\"610.35\",\"614.91\",\"573.0\",\"639.78\",\"655.46\",\"656.6\",\"661.9\",\"656.8\",\"655.01\",\"659.3225\",\"663.08\",\"669.2\",\"639.48\",\"640.23\",\"645.0\",\"634.33\",\"628.42\",\"625.34\",\"631.38\",\"630.0\",\"628.8\",\"632.83\",\"621.0\",\"647.0\",\"661.27\",\"660.89\",\"655.21\",\"659.24\",\"649.0\",\"565.12\",\"560.13\",\"546.76\",\"532.88\",\"526.29\",\"523.12\",\"521.05\",\"523.13\",\"519.5\",\"521.08\",\"524.73\",\"526.02\",\"525.01\",\"537.26\",\"538.87\",\"540.0\",\"539.64\",\"539.59\",\"537.21\",\"531.0\",\"529.37\",\"528.4\",\"528.0\",\"531.6\",\"538.425\",\"529.36\",\"527.56\",\"533.31\",\"536.35\",\"537.76\",\"539.91\",\"532.93\",\"536.79\",\"537.37\",\"538.01\",\"532.8\",\"538.12\",\"540.15\",\"537.95\",\"538.49\",\"533.98\",\"532.01\",\"539.18\",\"533.77\",\"530.56\",\"531.6\",\"538.37\",\"536.65\",\"523.99\",\"531.24\",\"538.21\",\"538.53\",\"538.43\",\"547.87\",\"550.47\",\"554.64\",\"563.39\",\"566.1\",\"541.0\",\"534.4\",\"537.51\",\"525.6\",\"528.66\",\"529.9\",\"528.7\",\"536.25\",\"538.41\",\"542.29\",\"541.03\",\"538.38\",\"538.08\",\"532.22\",\"540.85\",\"548.6\",\"550.0\",\"551.62\",\"553.0\",\"557.59\",\"570.5\",\"562.56\",\"560.43\",\"561.65\",\"559.39\",\"552.5\",\"551.71\",\"550.95\",\"553.5\",\"553.51\",\"555.14\",\"564.25\",\"566.86\",\"574.88\",\"575.02\",\"571.87\",\"570.45\",\"560.53\",\"554.24\",\"543.21\",\"535.9\",\"530.0\",\"536.05\",\"543.13\",\"538.04\",\"541.4\",\"546.83\",\"543.35\",\"537.25\",\"535.3\",\"529.3\",\"528.0\",\"527.64\",\"523.79\",\"529.24\",\"528.0\",\"531.73\",\"515.86\",\"511.0\",\"522.78\",\"529.97\",\"538.53\",\"535.59\",\"521.48\",\"507.25\",\"511.0\",\"500.01\",\"505.57\",\"494.65\",\"498.84\",\"494.94\",\"504.76\",\"497.99\",\"507.0\",\"515.0\",\"523.26\",\"529.01\",\"531.25\",\"528.09\",\"532.19\",\"528.77\",\"530.51\",\"527.0\",\"516.08\",\"511.51\",\"512.95\",\"497.0\",\"511.56\",\"522.74\",\"523.51\",\"527.8\",\"533.08\",\"522.14\",\"527.13\",\"531.0\",\"531.16\",\"531.44\",\"533.51\",\"538.9\",\"540.62\",\"540.88\",\"539.0\",\"537.65\",\"541.61\",\"531.25\",\"535.0\",\"537.5\",\"543.58\",\"546.68\",\"549.8\",\"550.39\",\"548.49\",\"541.46\",\"546.21\",\"545.5\",\"556.8\",\"553.0\",\"555.5\",\"559.35\",\"548.95\",\"550.0\",\"543.0\",\"537.03\",\"544.36\",\"539.32\",\"529.89\",\"525.19\",\"509.45\",\"527.25\",\"519.0\",\"531.01\",\"538.9\",\"544.99\",\"557.72\",\"571.18\",\"565.57\",\"574.4\",\"578.8\",\"573.05\",\"567.31\",\"576.01\",\"576.93\",\"571.75\",\"576.06\",\"587.55\",\"581.46\",\"586.85\",\"593.82\",\"591.5\",\"587.0\",\"580.01\",\"572.76\",\"572.94\",\"581.0\",\"580.36\",\"581.5\",\"588.9\",\"586.6\",\"583.98\",\"580.0\",\"580.0\",\"571.85\",\"571.33\",\"569.56\",\"577.27\",\"581.26\",\"584.72\",\"583.59\",\"583.82\",\"585.88\",\"585.0\",\"576.11\",\"577.86\",\"576.18\",\"567.31\",\"564.52\",\"569.99\",\"563.56\",\"568.0\",\"561.78\",\"570.05\",\"569.04\",\"570.4\",\"580.6\",\"586.55\",\"588.75\",\"588.07\",\"590.4\",\"596.45\",\"593.23\",\"590.72\",\"591.75\",\"593.0\",\"579.53\",\"588.0\",\"585.74\",\"582.6\",\"571.91\",\"565.91\",\"571.58\",\"577.66\",\"583.76\",\"583.35\",\"583.35\",\"578.32\",\"578.66\",\"577.18\",\"581.0\",\"565.26\",\"565.19\",\"555.15\",\"556.85\",\"554.24\",\"544.86\",\"544.2\",\"549.26\",\"552.26\",\"557.3\",\"558.0\",\"560.51\",\"557.15\",\"558.06\",\"546.4\",\"541.5\",\"550.99\",\"560.7\",\"560.8\",\"563.35\",\"564.57\",\"556.0\",\"547.26\",\"541.13\",\"532.9\",\"529.74\",\"519.7\",\"521.39\",\"525.7\",\"533.0\",\"530.89\",\"523.51\",\"510.75\",\"508.46\",\"515.79\",\"525.23\",\"524.82\",\"533.76\",\"527.11\",\"527.6\",\"516.9\",\"517.18\",\"522.51\",\"530.07\",\"533.79\",\"528.64\",\"536.1\",\"548.81\",\"543.0\",\"536.82\",\"538.25\",\"532.55\",\"565.0\",\"559.62\",\"542.6\",\"540.74\",\"574.65\",\"569.85\",\"565.106\",\"558.71\",\"566.89\",\"561.2\",\"568.0\"]}},\"id\":\"c59537fc-4d22-4ec5-b34e-24fc3ec0474f\",\"type\":\"ColumnDataSource\"},{\"attributes\":{\"formatter\":{\"id\":\"ed768725-29bd-4c68-9e37-363495bda022\",\"type\":\"BasicTickFormatter\"},\"plot\":{\"id\":\"9625ad03-285e-4870-866f-e426273fce53\",\"subtype\":\"Figure\",\"type\":\"Plot\"},\"ticker\":{\"id\":\"fbae54d9-ec95-432b-8240-04944df5d3bc\",\"type\":\"BasicTicker\"}},\"id\":\"8042ee4b-618a-4547-8257-3af4e1089a5f\",\"type\":\"LinearAxis\"},{\"attributes\":{\"months\":[0,1,2,3,4,5,6,7,8,9,10,11]},\"id\":\"c6284180-7cf2-4648-8753-b4c568fba8c6\",\"type\":\"MonthsTicker\"},{\"attributes\":{\"line_color\":{\"value\":\"purple\"},\"line_width\":{\"value\":2},\"x\":{\"field\":\"x\"},\"y\":{\"field\":\"y\"}},\"id\":\"91440160-c0d2-41c9-89a6-44934b4d40d9\",\"type\":\"Line\"},{\"attributes\":{\"plot\":{\"id\":\"9625ad03-285e-4870-866f-e426273fce53\",\"subtype\":\"Figure\",\"type\":\"Plot\"}},\"id\":\"e2533dca-491a-4bd0-ac75-f44c3c167fc7\",\"type\":\"PanTool\"},{\"attributes\":{},\"id\":\"0fe6afb8-cc0f-4f3d-9799-b4bf5815a62d\",\"type\":\"DatetimeTickFormatter\"},{\"attributes\":{},\"id\":\"e191b9cc-8aa6-4fc8-ad10-3c6ef2f96f99\",\"type\":\"ToolEvents\"},{\"attributes\":{\"days\":[1,4,7,10,13,16,19,22,25,28]},\"id\":\"04b0f91d-a810-42f5-a5d6-be41f71d5be2\",\"type\":\"DaysTicker\"},{\"attributes\":{\"callback\":null},\"id\":\"41e37c68-6220-4292-abe3-3255e2a5180b\",\"type\":\"DataRange1d\"},{\"attributes\":{\"months\":[0,2,4,6,8,10]},\"id\":\"aa7348b7-ee97-44db-b06b-f4067ffe481b\",\"type\":\"MonthsTicker\"},{\"attributes\":{\"months\":[0,6]},\"id\":\"7a8786ad-e8d0-455f-ac33-8d4c96eae1b1\",\"type\":\"MonthsTicker\"},{\"attributes\":{\"overlay\":{\"id\":\"a45d7a28-2535-447e-b810-c2331ecf1655\",\"type\":\"BoxAnnotation\"},\"plot\":{\"id\":\"9625ad03-285e-4870-866f-e426273fce53\",\"subtype\":\"Figure\",\"type\":\"Plot\"}},\"id\":\"a5baf529-ef06-41a6-9d6f-c490bd32204a\",\"type\":\"BoxZoomTool\"},{\"attributes\":{\"dimension\":1,\"plot\":{\"id\":\"9625ad03-285e-4870-866f-e426273fce53\",\"subtype\":\"Figure\",\"type\":\"Plot\"},\"ticker\":{\"id\":\"fbae54d9-ec95-432b-8240-04944df5d3bc\",\"type\":\"BasicTicker\"}},\"id\":\"7f231db2-5eb7-4a15-a484-db225172c502\",\"type\":\"Grid\"}],\"root_ids\":[\"9625ad03-285e-4870-866f-e426273fce53\"]},\"title\":\"Bokeh Application\",\"version\":\"0.12.5\"}};\n",
       "            var render_items = [{\"docid\":\"e11a30b8-1394-4ad2-a582-30ee98673f2c\",\"elementid\":\"f819a10a-177a-48c7-99c8-52ccd01632e5\",\"modelid\":\"9625ad03-285e-4870-866f-e426273fce53\"}];\n",
       "            \n",
       "            Bokeh.embed.embed_items(docs_json, render_items);\n",
       "          };\n",
       "          if (document.readyState != \"loading\") fn();\n",
       "          else document.addEventListener(\"DOMContentLoaded\", fn);\n",
       "        })();\n",
       "      },\n",
       "      function(Bokeh) {\n",
       "      }\n",
       "    ];\n",
       "  \n",
       "    function run_inline_js() {\n",
       "      \n",
       "      if ((window.Bokeh !== undefined) || (force === true)) {\n",
       "        for (var i = 0; i < inline_js.length; i++) {\n",
       "          inline_js[i](window.Bokeh);\n",
       "        }if (force === true) {\n",
       "          display_loaded();\n",
       "        }} else if (Date.now() < window._bokeh_timeout) {\n",
       "        setTimeout(run_inline_js, 100);\n",
       "      } else if (!window._bokeh_failed_load) {\n",
       "        console.log(\"Bokeh: BokehJS failed to load within specified timeout.\");\n",
       "        window._bokeh_failed_load = true;\n",
       "      } else if (force !== true) {\n",
       "        var cell = $(document.getElementById(\"f819a10a-177a-48c7-99c8-52ccd01632e5\")).parents('.cell').data().cell;\n",
       "        cell.output_area.append_execute_result(NB_LOAD_WARNING)\n",
       "      }\n",
       "  \n",
       "    }\n",
       "  \n",
       "    if (window._bokeh_is_loading === 0) {\n",
       "      console.log(\"Bokeh: BokehJS loaded, going straight to plotting\");\n",
       "      run_inline_js();\n",
       "    } else {\n",
       "      load_libs(js_urls, function() {\n",
       "        console.log(\"Bokeh: BokehJS plotting callback run at\", now());\n",
       "        run_inline_js();\n",
       "      });\n",
       "    }\n",
       "  }(this));\n",
       "</script>"
      ]
     },
     "metadata": {},
     "output_type": "display_data"
    }
   ],
   "source": [
    "show(p)"
   ]
  },
  {
   "cell_type": "code",
   "execution_count": null,
   "metadata": {
    "collapsed": true
   },
   "outputs": [],
   "source": []
  }
 ],
 "metadata": {
  "kernelspec": {
   "display_name": "Python 2",
   "language": "python",
   "name": "python2"
  },
  "language_info": {
   "codemirror_mode": {
    "name": "ipython",
    "version": 2
   },
   "file_extension": ".py",
   "mimetype": "text/x-python",
   "name": "python",
   "nbconvert_exporter": "python",
   "pygments_lexer": "ipython2",
   "version": "2.7.13"
  }
 },
 "nbformat": 4,
 "nbformat_minor": 2
}
