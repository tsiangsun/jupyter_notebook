{
 "cells": [
  {
   "cell_type": "markdown",
   "metadata": {
    "deletable": true,
    "editable": true
   },
   "source": [
    "## Anomaly Detection\n",
    "\n",
    "This is a short intro to Anomaly Detection methods.\n",
    "\n",
    "A fairly good, somewhat in-depth intro can be found at: https://iwringer.wordpress.com/2015/11/17/anomaly-detection-concepts-and-techniques/\n",
    "\n",
    "The basic idea is you are characterizing your data somehow, and looking for something that doesn't fit.\n",
    "\n",
    "You can treat this as both an Unsupervised or a Supervised learning problem, depending on what data you have available, but beware the Supervised version might not do what you want.\n"
   ]
  },
  {
   "cell_type": "markdown",
   "metadata": {
    "deletable": true,
    "editable": true
   },
   "source": [
    "### Supervised Learning\n",
    "\n",
    "This is definitely a classification problem.  This only works if you have a decent sample of what your \"anomalies\" look like - so they're not really anomalies as much as \"bad\" things.  Then you are training a system to look for events that look like bad ones you've seen.\n",
    "\n",
    "But you're likely to hit a problem - you're going to have *many* more \"good\" events than \"bad\" ones - this is the problem of Unbalanced Classes.  There are techniques to deal with this, but they mainly fall in to two categories: reduce the number of good events; and make more bad events.  This topic is covered in our Advanced Machine Learning course, I can send the appropriate notebook out if you'd like."
   ]
  },
  {
   "cell_type": "markdown",
   "metadata": {
    "deletable": true,
    "editable": true
   },
   "source": [
    "### Unsupervised Learning\n",
    "\n",
    "Clustering approach:  Generate clusters, look for things that are far from existing clusters (low p value in GMM, high distance in k-means)\n",
    "\n",
    "Dimension reduction approach: Reconstruction is much worse for anomalies, not explained by \"optimum\" variables\n",
    "\n",
    "Built in to sklearn: http://scikit-learn.org/stable/modules/outlier_detection.html\n",
    "Interesting one: Isolation Forest"
   ]
  },
  {
   "cell_type": "code",
   "execution_count": null,
   "metadata": {
    "collapsed": true,
    "deletable": true,
    "editable": true
   },
   "outputs": [],
   "source": [
    "features = (date, type, string)"
   ]
  }
 ],
 "metadata": {
  "kernelspec": {
   "display_name": "Python 2",
   "language": "python",
   "name": "python2"
  },
  "language_info": {
   "codemirror_mode": {
    "name": "ipython",
    "version": 2
   },
   "file_extension": ".py",
   "mimetype": "text/x-python",
   "name": "python",
   "nbconvert_exporter": "python",
   "pygments_lexer": "ipython2",
   "version": "2.7.13"
  }
 },
 "nbformat": 4,
 "nbformat_minor": 2
}
