{
 "cells": [
  {
   "cell_type": "markdown",
   "metadata": {},
   "source": [
    "## Q1. Sort array of strings according to anagrams"
   ]
  },
  {
   "cell_type": "code",
   "execution_count": 1,
   "metadata": {
    "collapsed": false
   },
   "outputs": [
    {
     "name": "stdout",
     "output_type": "stream",
     "text": [
      "['cat', 'act', 'star', 'arts', 'rats', 'god', 'dog']\n"
     ]
    }
   ],
   "source": [
    "words = ['cat', 'star', 'act', 'god', 'arts', 'dog', 'rats'] \n",
    "print sorted(words,key=lambda x:sorted(x))"
   ]
  },
  {
   "cell_type": "markdown",
   "metadata": {},
   "source": [
    "## Q2. print matrix element in spiral order"
   ]
  },
  {
   "cell_type": "code",
   "execution_count": 17,
   "metadata": {
    "collapsed": false
   },
   "outputs": [
    {
     "name": "stdout",
     "output_type": "stream",
     "text": [
      "[(1, 6), (2, 7), (3, 8), (4, 9), (5, 0)]\n",
      "[(1, 2, 3, 4, 5), (6, 7, 8, 9, 0)]\n"
     ]
    }
   ],
   "source": [
    "la = [1,2,3,4,5]\n",
    "lb = [6,7,8,9,0]\n",
    "lz = zip(la,lb)\n",
    "print lz\n",
    "print zip(*lz)\n",
    "L = zip(*lz)\n"
   ]
  },
  {
   "cell_type": "code",
   "execution_count": 16,
   "metadata": {
    "collapsed": false
   },
   "outputs": [
    {
     "name": "stdout",
     "output_type": "stream",
     "text": [
      "[[1, 2, 3, 4, 5], [6, 7, 8, 9, 0]]\n",
      "[[1, 6], [2, 7], [3, 8], [4, 9], [5, 0]]\n"
     ]
    }
   ],
   "source": [
    "la = [1,2,3,4,5]\n",
    "lb = [6,7,8,9,0]\n",
    "L = [la, lb]\n",
    "print L\n",
    "L_transpose = [list(i) for i in zip(*L)]\n",
    "print L_transpose"
   ]
  },
  {
   "cell_type": "code",
   "execution_count": 31,
   "metadata": {
    "collapsed": false
   },
   "outputs": [
    {
     "name": "stdout",
     "output_type": "stream",
     "text": [
      "[1, 2, 3, 6, 9, 8, 7, 4, 5]\n"
     ]
    }
   ],
   "source": [
    "M = [[ 1, 2, 3 ],\n",
    "     [ 4, 5, 6 ],\n",
    "     [ 7, 8, 9 ]]\n",
    "\n",
    "def spiralOrder(mat):\n",
    "    \"\"\"\n",
    "    :type matrix: List[List[int]]\n",
    "    :rtype: List[int]\n",
    "    \"\"\"\n",
    "    li = []\n",
    "    while len(mat)>0:\n",
    "        top = mat.pop(0)\n",
    "        for x in top:\n",
    "            li.append(x)\n",
    "        mat = [list(i) for i in reversed(zip(*mat))]\n",
    "    \n",
    "    return li\n",
    "        \n",
    "print spiralOrder(M)"
   ]
  },
  {
   "cell_type": "code",
   "execution_count": 27,
   "metadata": {
    "collapsed": false
   },
   "outputs": [
    {
     "data": {
      "text/plain": [
       "[[6, 9], [5, 8], [4, 7]]"
      ]
     },
     "execution_count": 27,
     "metadata": {},
     "output_type": "execute_result"
    }
   ],
   "source": [
    "M = [[ 1, 2, 3 ],\n",
    "     [ 4, 5, 6 ],\n",
    "     [ 7, 8, 9 ]]\n",
    "M.pop(0)\n",
    "[list(i) for i in reversed(zip(*M))]\n"
   ]
  },
  {
   "cell_type": "markdown",
   "metadata": {},
   "source": [
    "## Q3. Given a 2D array of 1's and 0's, find the biggest perfect square of 1's (DFS)."
   ]
  },
  {
   "cell_type": "code",
   "execution_count": 52,
   "metadata": {
    "collapsed": false
   },
   "outputs": [
    {
     "name": "stdout",
     "output_type": "stream",
     "text": [
      "3\n"
     ]
    }
   ],
   "source": [
    "# Dynamic programming\n",
    "M = [[0,1,1,0,1],\n",
    "     [0,1,1,1,0],\n",
    "     [1,1,1,1,0],\n",
    "     [1,1,1,1,1],\n",
    "     [0,1,0,0,0]]\n",
    "\n",
    "def biggest_square(M):\n",
    "    r = len(M)\n",
    "    c = len(M[0])\n",
    "    S = [[0]*c for i in range(r)]\n",
    "    for k in range(c):\n",
    "        S[0][k] = M[0][k]\n",
    "    for k in range(r):\n",
    "        S[k][0] = M[k][0]\n",
    "\n",
    "    for i in range(1,r):\n",
    "        for j in range(1,c):\n",
    "            if M[i][j] == 1:\n",
    "                S[i][j] = 1 + min(S[i-1][j],S[i][j-1],S[i-1][j-1])\n",
    "    max_size = max([max(l) for l in S])\n",
    "    return max_size\n",
    "\n",
    "print biggest_square(M)"
   ]
  },
  {
   "cell_type": "code",
   "execution_count": 51,
   "metadata": {
    "collapsed": false
   },
   "outputs": [
    {
     "name": "stdout",
     "output_type": "stream",
     "text": [
      "3\n"
     ]
    }
   ],
   "source": [
    "M = [[0,1,1,0,1],\n",
    "     [0,1,1,1,0],\n",
    "     [1,1,1,1,0],\n",
    "     [1,1,1,1,1],\n",
    "     [0,1,0,0,0]]\n",
    "r = len(M)\n",
    "c = len(M[0])\n",
    "S = [[0]*c for i in range(r)]\n",
    "for k in range(c):\n",
    "    S[0][k] = M[0][k]\n",
    "for k in range(r):\n",
    "    S[k][0] = M[k][0]\n",
    "\n",
    "for i in range(1,r):\n",
    "    for j in range(1,c):\n",
    "        if M[i][j] == 1:\n",
    "            S[i][j] = 1 + min(S[i-1][j],S[i][j-1],S[i-1][j-1])\n",
    "max_size = max([max(l) for l in S])\n",
    "print max_size"
   ]
  },
  {
   "cell_type": "code",
   "execution_count": 36,
   "metadata": {
    "collapsed": false
   },
   "outputs": [
    {
     "data": {
      "text/plain": [
       "1"
      ]
     },
     "execution_count": 36,
     "metadata": {},
     "output_type": "execute_result"
    }
   ],
   "source": [
    "min(M[1][1],M[1][2],M[2][1])"
   ]
  },
  {
   "cell_type": "code",
   "execution_count": 47,
   "metadata": {
    "collapsed": false
   },
   "outputs": [],
   "source": [
    "max_size = max([max(l) for l in S])"
   ]
  },
  {
   "cell_type": "code",
   "execution_count": 56,
   "metadata": {
    "collapsed": false
   },
   "outputs": [
    {
     "name": "stdout",
     "output_type": "stream",
     "text": [
      "4\n"
     ]
    }
   ],
   "source": [
    "n=10\n",
    "print n.bit_length()"
   ]
  },
  {
   "cell_type": "code",
   "execution_count": 59,
   "metadata": {
    "collapsed": false
   },
   "outputs": [
    {
     "data": {
      "text/plain": [
       "list"
      ]
     },
     "execution_count": 59,
     "metadata": {},
     "output_type": "execute_result"
    }
   ],
   "source": [
    "l = range(5)\n",
    "type(l)"
   ]
  },
  {
   "cell_type": "markdown",
   "metadata": {},
   "source": [
    "## Q4. Sort dictionary by key or value"
   ]
  },
  {
   "cell_type": "code",
   "execution_count": 60,
   "metadata": {
    "collapsed": false
   },
   "outputs": [
    {
     "name": "stdout",
     "output_type": "stream",
     "text": [
      "alan: 2\n",
      "bob: 1\n",
      "carl: 40\n",
      "danny: 3\n"
     ]
    }
   ],
   "source": [
    "#sort dict by key\n",
    "mydict = {'carl':40,\n",
    "          'alan':2,\n",
    "          'bob':1,\n",
    "          'danny':3}\n",
    "\n",
    "for key in sorted(mydict.iterkeys()):\n",
    "    print \"%s: %s\" % (key, mydict[key])"
   ]
  },
  {
   "cell_type": "code",
   "execution_count": 63,
   "metadata": {
    "collapsed": false
   },
   "outputs": [
    {
     "name": "stdout",
     "output_type": "stream",
     "text": [
      "alan: 2\n",
      "bob: 1\n",
      "carl: 40\n",
      "danny: 3\n",
      "-----------\n",
      "bob: 1\n",
      "alan: 2\n",
      "danny: 3\n",
      "carl: 40\n"
     ]
    }
   ],
   "source": [
    "#sort dict by key\n",
    "for key, value in sorted(mydict.iteritems()):\n",
    "    print \"%s: %s\" % (key, value)\n",
    "\n",
    "print '-----------'\n",
    "#sort dict by value\n",
    "for key, value in sorted(mydict.iteritems(), key=lambda (k,v): (v,k)):\n",
    "    print \"%s: %s\" % (key, value)"
   ]
  },
  {
   "cell_type": "markdown",
   "metadata": {
    "collapsed": false
   },
   "source": [
    "## Q5. List all anagrams of string (recursive)"
   ]
  },
  {
   "cell_type": "code",
   "execution_count": 69,
   "metadata": {
    "collapsed": false
   },
   "outputs": [
    {
     "name": "stdout",
     "output_type": "stream",
     "text": [
      "['abcd', 'bacd', 'bcad', 'bcda', 'acbd', 'cabd', 'cbad', 'cbda', 'acdb', 'cadb', 'cdab', 'cdba', 'abdc', 'badc', 'bdac', 'bdca', 'adbc', 'dabc', 'dbac', 'dbca', 'adcb', 'dacb', 'dcab', 'dcba']\n"
     ]
    }
   ],
   "source": [
    "def all_perms(elements):\n",
    "    if len(elements) <=1:\n",
    "        yield elements\n",
    "    else:\n",
    "        for perm in all_perms(elements[1:]):\n",
    "            for i in range(len(elements)):\n",
    "                yield perm[:i] + elements[0:1] + perm[i:]\n",
    "\n",
    "\n",
    "word = \"abcd\"\n",
    "print list(all_perms(word))\n"
   ]
  },
  {
   "cell_type": "code",
   "execution_count": null,
   "metadata": {
    "collapsed": true
   },
   "outputs": [],
   "source": []
  }
 ],
 "metadata": {
  "kernelspec": {
   "display_name": "Python 2",
   "language": "python",
   "name": "python2"
  },
  "language_info": {
   "codemirror_mode": {
    "name": "ipython",
    "version": 2
   },
   "file_extension": ".py",
   "mimetype": "text/x-python",
   "name": "python",
   "nbconvert_exporter": "python",
   "pygments_lexer": "ipython2",
   "version": "2.7.13"
  }
 },
 "nbformat": 4,
 "nbformat_minor": 2
}
