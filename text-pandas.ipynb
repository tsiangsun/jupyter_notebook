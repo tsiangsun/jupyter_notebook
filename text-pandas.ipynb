{
 "cells": [
  {
   "cell_type": "code",
   "execution_count": 1,
   "metadata": {
    "collapsed": true
   },
   "outputs": [],
   "source": [
    "import pandas as pd"
   ]
  },
  {
   "cell_type": "code",
   "execution_count": 2,
   "metadata": {
    "collapsed": true
   },
   "outputs": [],
   "source": [
    "import numpy as np"
   ]
  },
  {
   "cell_type": "code",
   "execution_count": 3,
   "metadata": {
    "collapsed": true
   },
   "outputs": [],
   "source": [
    "import matplotlib.pyplot as plt"
   ]
  },
  {
   "cell_type": "code",
   "execution_count": 4,
   "metadata": {
    "collapsed": true
   },
   "outputs": [],
   "source": [
    "s = pd.Series([1,3,5,7.8,6,8])"
   ]
  },
  {
   "cell_type": "code",
   "execution_count": 5,
   "metadata": {
    "collapsed": false
   },
   "outputs": [
    {
     "data": {
      "text/plain": [
       "0    1.0\n",
       "1    3.0\n",
       "2    5.0\n",
       "3    7.8\n",
       "4    6.0\n",
       "5    8.0\n",
       "dtype: float64"
      ]
     },
     "execution_count": 5,
     "metadata": {},
     "output_type": "execute_result"
    }
   ],
   "source": [
    "s"
   ]
  },
  {
   "cell_type": "code",
   "execution_count": 6,
   "metadata": {
    "collapsed": true
   },
   "outputs": [],
   "source": [
    "dates = pd.date_range('20130101', periods=6)"
   ]
  },
  {
   "cell_type": "code",
   "execution_count": 7,
   "metadata": {
    "collapsed": false
   },
   "outputs": [
    {
     "data": {
      "text/plain": [
       "DatetimeIndex(['2013-01-01', '2013-01-02', '2013-01-03', '2013-01-04',\n",
       "               '2013-01-05', '2013-01-06'],\n",
       "              dtype='datetime64[ns]', freq='D')"
      ]
     },
     "execution_count": 7,
     "metadata": {},
     "output_type": "execute_result"
    }
   ],
   "source": [
    "dates"
   ]
  },
  {
   "cell_type": "code",
   "execution_count": 8,
   "metadata": {
    "collapsed": false
   },
   "outputs": [
    {
     "data": {
      "text/plain": [
       "['A', 'B', 'C', 'D']"
      ]
     },
     "execution_count": 8,
     "metadata": {},
     "output_type": "execute_result"
    }
   ],
   "source": [
    "list('ABCD')"
   ]
  },
  {
   "cell_type": "code",
   "execution_count": 9,
   "metadata": {
    "collapsed": true
   },
   "outputs": [],
   "source": [
    "df = pd.DataFrame(np.random.randn(6,4), index=dates, columns=list('ABCD'))"
   ]
  },
  {
   "cell_type": "code",
   "execution_count": 10,
   "metadata": {
    "collapsed": false
   },
   "outputs": [
    {
     "data": {
      "text/html": [
       "<div>\n",
       "<table border=\"1\" class=\"dataframe\">\n",
       "  <thead>\n",
       "    <tr style=\"text-align: right;\">\n",
       "      <th></th>\n",
       "      <th>A</th>\n",
       "      <th>B</th>\n",
       "      <th>C</th>\n",
       "      <th>D</th>\n",
       "    </tr>\n",
       "  </thead>\n",
       "  <tbody>\n",
       "    <tr>\n",
       "      <th>2013-01-01</th>\n",
       "      <td>-2.132205</td>\n",
       "      <td>-0.614831</td>\n",
       "      <td>1.180666</td>\n",
       "      <td>-0.361898</td>\n",
       "    </tr>\n",
       "    <tr>\n",
       "      <th>2013-01-02</th>\n",
       "      <td>0.239504</td>\n",
       "      <td>0.989856</td>\n",
       "      <td>0.255592</td>\n",
       "      <td>-1.859635</td>\n",
       "    </tr>\n",
       "    <tr>\n",
       "      <th>2013-01-03</th>\n",
       "      <td>1.008913</td>\n",
       "      <td>-0.865443</td>\n",
       "      <td>-0.836827</td>\n",
       "      <td>0.160541</td>\n",
       "    </tr>\n",
       "    <tr>\n",
       "      <th>2013-01-04</th>\n",
       "      <td>0.381261</td>\n",
       "      <td>-0.436875</td>\n",
       "      <td>0.415225</td>\n",
       "      <td>-0.722504</td>\n",
       "    </tr>\n",
       "    <tr>\n",
       "      <th>2013-01-05</th>\n",
       "      <td>-0.225437</td>\n",
       "      <td>0.915924</td>\n",
       "      <td>-0.746843</td>\n",
       "      <td>-2.321330</td>\n",
       "    </tr>\n",
       "    <tr>\n",
       "      <th>2013-01-06</th>\n",
       "      <td>0.115119</td>\n",
       "      <td>-1.631890</td>\n",
       "      <td>0.728192</td>\n",
       "      <td>-0.036008</td>\n",
       "    </tr>\n",
       "  </tbody>\n",
       "</table>\n",
       "</div>"
      ],
      "text/plain": [
       "                   A         B         C         D\n",
       "2013-01-01 -2.132205 -0.614831  1.180666 -0.361898\n",
       "2013-01-02  0.239504  0.989856  0.255592 -1.859635\n",
       "2013-01-03  1.008913 -0.865443 -0.836827  0.160541\n",
       "2013-01-04  0.381261 -0.436875  0.415225 -0.722504\n",
       "2013-01-05 -0.225437  0.915924 -0.746843 -2.321330\n",
       "2013-01-06  0.115119 -1.631890  0.728192 -0.036008"
      ]
     },
     "execution_count": 10,
     "metadata": {},
     "output_type": "execute_result"
    }
   ],
   "source": [
    "df"
   ]
  },
  {
   "cell_type": "code",
   "execution_count": 11,
   "metadata": {
    "collapsed": true
   },
   "outputs": [],
   "source": [
    "df2 = pd.DataFrame({ 'A' : 1.,\n",
    "   ....:                      'B' : pd.Timestamp('20130102'),\n",
    "   ....:                      'C' : pd.Series(1,index=list(range(4)),dtype='float32'),\n",
    "   ....:                      'D' : np.array([3] * 4,dtype='int32'),\n",
    "   ....:                      'E' : pd.Categorical([\"test\",\"train\",\"test\",\"train\"]),\n",
    "   ....:                      'F' : 'foo' })"
   ]
  },
  {
   "cell_type": "code",
   "execution_count": 12,
   "metadata": {
    "collapsed": false
   },
   "outputs": [
    {
     "data": {
      "text/html": [
       "<div>\n",
       "<table border=\"1\" class=\"dataframe\">\n",
       "  <thead>\n",
       "    <tr style=\"text-align: right;\">\n",
       "      <th></th>\n",
       "      <th>A</th>\n",
       "      <th>B</th>\n",
       "      <th>C</th>\n",
       "      <th>D</th>\n",
       "      <th>E</th>\n",
       "      <th>F</th>\n",
       "    </tr>\n",
       "  </thead>\n",
       "  <tbody>\n",
       "    <tr>\n",
       "      <th>0</th>\n",
       "      <td>1.0</td>\n",
       "      <td>2013-01-02</td>\n",
       "      <td>1.0</td>\n",
       "      <td>3</td>\n",
       "      <td>test</td>\n",
       "      <td>foo</td>\n",
       "    </tr>\n",
       "    <tr>\n",
       "      <th>1</th>\n",
       "      <td>1.0</td>\n",
       "      <td>2013-01-02</td>\n",
       "      <td>1.0</td>\n",
       "      <td>3</td>\n",
       "      <td>train</td>\n",
       "      <td>foo</td>\n",
       "    </tr>\n",
       "    <tr>\n",
       "      <th>2</th>\n",
       "      <td>1.0</td>\n",
       "      <td>2013-01-02</td>\n",
       "      <td>1.0</td>\n",
       "      <td>3</td>\n",
       "      <td>test</td>\n",
       "      <td>foo</td>\n",
       "    </tr>\n",
       "    <tr>\n",
       "      <th>3</th>\n",
       "      <td>1.0</td>\n",
       "      <td>2013-01-02</td>\n",
       "      <td>1.0</td>\n",
       "      <td>3</td>\n",
       "      <td>train</td>\n",
       "      <td>foo</td>\n",
       "    </tr>\n",
       "  </tbody>\n",
       "</table>\n",
       "</div>"
      ],
      "text/plain": [
       "     A          B    C  D      E    F\n",
       "0  1.0 2013-01-02  1.0  3   test  foo\n",
       "1  1.0 2013-01-02  1.0  3  train  foo\n",
       "2  1.0 2013-01-02  1.0  3   test  foo\n",
       "3  1.0 2013-01-02  1.0  3  train  foo"
      ]
     },
     "execution_count": 12,
     "metadata": {},
     "output_type": "execute_result"
    }
   ],
   "source": [
    "df2"
   ]
  },
  {
   "cell_type": "code",
   "execution_count": 14,
   "metadata": {
    "collapsed": false
   },
   "outputs": [
    {
     "data": {
      "text/plain": [
       "A           float64\n",
       "B    datetime64[ns]\n",
       "C           float32\n",
       "D             int32\n",
       "E          category\n",
       "F            object\n",
       "dtype: object"
      ]
     },
     "execution_count": 14,
     "metadata": {},
     "output_type": "execute_result"
    }
   ],
   "source": [
    "df2.dtypes"
   ]
  },
  {
   "cell_type": "code",
   "execution_count": 15,
   "metadata": {
    "collapsed": false
   },
   "outputs": [
    {
     "data": {
      "text/html": [
       "<div>\n",
       "<table border=\"1\" class=\"dataframe\">\n",
       "  <thead>\n",
       "    <tr style=\"text-align: right;\">\n",
       "      <th></th>\n",
       "      <th>A</th>\n",
       "      <th>B</th>\n",
       "      <th>C</th>\n",
       "      <th>D</th>\n",
       "    </tr>\n",
       "  </thead>\n",
       "  <tbody>\n",
       "    <tr>\n",
       "      <th>2013-01-01</th>\n",
       "      <td>-2.132205</td>\n",
       "      <td>-0.614831</td>\n",
       "      <td>1.180666</td>\n",
       "      <td>-0.361898</td>\n",
       "    </tr>\n",
       "    <tr>\n",
       "      <th>2013-01-02</th>\n",
       "      <td>0.239504</td>\n",
       "      <td>0.989856</td>\n",
       "      <td>0.255592</td>\n",
       "      <td>-1.859635</td>\n",
       "    </tr>\n",
       "    <tr>\n",
       "      <th>2013-01-03</th>\n",
       "      <td>1.008913</td>\n",
       "      <td>-0.865443</td>\n",
       "      <td>-0.836827</td>\n",
       "      <td>0.160541</td>\n",
       "    </tr>\n",
       "    <tr>\n",
       "      <th>2013-01-04</th>\n",
       "      <td>0.381261</td>\n",
       "      <td>-0.436875</td>\n",
       "      <td>0.415225</td>\n",
       "      <td>-0.722504</td>\n",
       "    </tr>\n",
       "    <tr>\n",
       "      <th>2013-01-05</th>\n",
       "      <td>-0.225437</td>\n",
       "      <td>0.915924</td>\n",
       "      <td>-0.746843</td>\n",
       "      <td>-2.321330</td>\n",
       "    </tr>\n",
       "  </tbody>\n",
       "</table>\n",
       "</div>"
      ],
      "text/plain": [
       "                   A         B         C         D\n",
       "2013-01-01 -2.132205 -0.614831  1.180666 -0.361898\n",
       "2013-01-02  0.239504  0.989856  0.255592 -1.859635\n",
       "2013-01-03  1.008913 -0.865443 -0.836827  0.160541\n",
       "2013-01-04  0.381261 -0.436875  0.415225 -0.722504\n",
       "2013-01-05 -0.225437  0.915924 -0.746843 -2.321330"
      ]
     },
     "execution_count": 15,
     "metadata": {},
     "output_type": "execute_result"
    }
   ],
   "source": [
    "df.head()"
   ]
  },
  {
   "cell_type": "code",
   "execution_count": 18,
   "metadata": {
    "collapsed": false
   },
   "outputs": [
    {
     "data": {
      "text/html": [
       "<div>\n",
       "<table border=\"1\" class=\"dataframe\">\n",
       "  <thead>\n",
       "    <tr style=\"text-align: right;\">\n",
       "      <th></th>\n",
       "      <th>A</th>\n",
       "      <th>B</th>\n",
       "      <th>C</th>\n",
       "      <th>D</th>\n",
       "    </tr>\n",
       "  </thead>\n",
       "  <tbody>\n",
       "    <tr>\n",
       "      <th>2013-01-05</th>\n",
       "      <td>-0.225437</td>\n",
       "      <td>0.915924</td>\n",
       "      <td>-0.746843</td>\n",
       "      <td>-2.321330</td>\n",
       "    </tr>\n",
       "    <tr>\n",
       "      <th>2013-01-06</th>\n",
       "      <td>0.115119</td>\n",
       "      <td>-1.631890</td>\n",
       "      <td>0.728192</td>\n",
       "      <td>-0.036008</td>\n",
       "    </tr>\n",
       "  </tbody>\n",
       "</table>\n",
       "</div>"
      ],
      "text/plain": [
       "                   A         B         C         D\n",
       "2013-01-05 -0.225437  0.915924 -0.746843 -2.321330\n",
       "2013-01-06  0.115119 -1.631890  0.728192 -0.036008"
      ]
     },
     "execution_count": 18,
     "metadata": {},
     "output_type": "execute_result"
    }
   ],
   "source": [
    "df.tail(2)"
   ]
  },
  {
   "cell_type": "code",
   "execution_count": 19,
   "metadata": {
    "collapsed": false
   },
   "outputs": [
    {
     "data": {
      "text/plain": [
       "DatetimeIndex(['2013-01-01', '2013-01-02', '2013-01-03', '2013-01-04',\n",
       "               '2013-01-05', '2013-01-06'],\n",
       "              dtype='datetime64[ns]', freq='D')"
      ]
     },
     "execution_count": 19,
     "metadata": {},
     "output_type": "execute_result"
    }
   ],
   "source": [
    "df.index"
   ]
  },
  {
   "cell_type": "code",
   "execution_count": 20,
   "metadata": {
    "collapsed": false
   },
   "outputs": [
    {
     "data": {
      "text/plain": [
       "Index([u'A', u'B', u'C', u'D'], dtype='object')"
      ]
     },
     "execution_count": 20,
     "metadata": {},
     "output_type": "execute_result"
    }
   ],
   "source": [
    "df.columns"
   ]
  },
  {
   "cell_type": "code",
   "execution_count": 21,
   "metadata": {
    "collapsed": false
   },
   "outputs": [
    {
     "data": {
      "text/plain": [
       "array([[-2.13220538, -0.61483123,  1.18066603, -0.36189827],\n",
       "       [ 0.23950357,  0.98985594,  0.25559229, -1.85963471],\n",
       "       [ 1.00891262, -0.86544285, -0.83682651,  0.16054105],\n",
       "       [ 0.3812615 , -0.43687487,  0.41522467, -0.72250442],\n",
       "       [-0.22543726,  0.91592356, -0.74684319, -2.32133033],\n",
       "       [ 0.1151193 , -1.63189039,  0.72819185, -0.03600835]])"
      ]
     },
     "execution_count": 21,
     "metadata": {},
     "output_type": "execute_result"
    }
   ],
   "source": [
    "df.values"
   ]
  },
  {
   "cell_type": "code",
   "execution_count": 22,
   "metadata": {
    "collapsed": false
   },
   "outputs": [
    {
     "data": {
      "text/html": [
       "<div>\n",
       "<table border=\"1\" class=\"dataframe\">\n",
       "  <thead>\n",
       "    <tr style=\"text-align: right;\">\n",
       "      <th></th>\n",
       "      <th>A</th>\n",
       "      <th>B</th>\n",
       "      <th>C</th>\n",
       "      <th>D</th>\n",
       "    </tr>\n",
       "  </thead>\n",
       "  <tbody>\n",
       "    <tr>\n",
       "      <th>count</th>\n",
       "      <td>6.000000</td>\n",
       "      <td>6.000000</td>\n",
       "      <td>6.000000</td>\n",
       "      <td>6.000000</td>\n",
       "    </tr>\n",
       "    <tr>\n",
       "      <th>mean</th>\n",
       "      <td>-0.102141</td>\n",
       "      <td>-0.273877</td>\n",
       "      <td>0.166001</td>\n",
       "      <td>-0.856806</td>\n",
       "    </tr>\n",
       "    <tr>\n",
       "      <th>std</th>\n",
       "      <td>1.074095</td>\n",
       "      <td>1.034371</td>\n",
       "      <td>0.806807</td>\n",
       "      <td>1.012143</td>\n",
       "    </tr>\n",
       "    <tr>\n",
       "      <th>min</th>\n",
       "      <td>-2.132205</td>\n",
       "      <td>-1.631890</td>\n",
       "      <td>-0.836827</td>\n",
       "      <td>-2.321330</td>\n",
       "    </tr>\n",
       "    <tr>\n",
       "      <th>25%</th>\n",
       "      <td>-0.140298</td>\n",
       "      <td>-0.802790</td>\n",
       "      <td>-0.496234</td>\n",
       "      <td>-1.575352</td>\n",
       "    </tr>\n",
       "    <tr>\n",
       "      <th>50%</th>\n",
       "      <td>0.177311</td>\n",
       "      <td>-0.525853</td>\n",
       "      <td>0.335408</td>\n",
       "      <td>-0.542201</td>\n",
       "    </tr>\n",
       "    <tr>\n",
       "      <th>75%</th>\n",
       "      <td>0.345822</td>\n",
       "      <td>0.577724</td>\n",
       "      <td>0.649950</td>\n",
       "      <td>-0.117481</td>\n",
       "    </tr>\n",
       "    <tr>\n",
       "      <th>max</th>\n",
       "      <td>1.008913</td>\n",
       "      <td>0.989856</td>\n",
       "      <td>1.180666</td>\n",
       "      <td>0.160541</td>\n",
       "    </tr>\n",
       "  </tbody>\n",
       "</table>\n",
       "</div>"
      ],
      "text/plain": [
       "              A         B         C         D\n",
       "count  6.000000  6.000000  6.000000  6.000000\n",
       "mean  -0.102141 -0.273877  0.166001 -0.856806\n",
       "std    1.074095  1.034371  0.806807  1.012143\n",
       "min   -2.132205 -1.631890 -0.836827 -2.321330\n",
       "25%   -0.140298 -0.802790 -0.496234 -1.575352\n",
       "50%    0.177311 -0.525853  0.335408 -0.542201\n",
       "75%    0.345822  0.577724  0.649950 -0.117481\n",
       "max    1.008913  0.989856  1.180666  0.160541"
      ]
     },
     "execution_count": 22,
     "metadata": {},
     "output_type": "execute_result"
    }
   ],
   "source": [
    "df.describe()"
   ]
  },
  {
   "cell_type": "code",
   "execution_count": 23,
   "metadata": {
    "collapsed": false
   },
   "outputs": [
    {
     "data": {
      "text/html": [
       "<div>\n",
       "<table border=\"1\" class=\"dataframe\">\n",
       "  <thead>\n",
       "    <tr style=\"text-align: right;\">\n",
       "      <th></th>\n",
       "      <th>2013-01-01 00:00:00</th>\n",
       "      <th>2013-01-02 00:00:00</th>\n",
       "      <th>2013-01-03 00:00:00</th>\n",
       "      <th>2013-01-04 00:00:00</th>\n",
       "      <th>2013-01-05 00:00:00</th>\n",
       "      <th>2013-01-06 00:00:00</th>\n",
       "    </tr>\n",
       "  </thead>\n",
       "  <tbody>\n",
       "    <tr>\n",
       "      <th>A</th>\n",
       "      <td>-2.132205</td>\n",
       "      <td>0.239504</td>\n",
       "      <td>1.008913</td>\n",
       "      <td>0.381261</td>\n",
       "      <td>-0.225437</td>\n",
       "      <td>0.115119</td>\n",
       "    </tr>\n",
       "    <tr>\n",
       "      <th>B</th>\n",
       "      <td>-0.614831</td>\n",
       "      <td>0.989856</td>\n",
       "      <td>-0.865443</td>\n",
       "      <td>-0.436875</td>\n",
       "      <td>0.915924</td>\n",
       "      <td>-1.631890</td>\n",
       "    </tr>\n",
       "    <tr>\n",
       "      <th>C</th>\n",
       "      <td>1.180666</td>\n",
       "      <td>0.255592</td>\n",
       "      <td>-0.836827</td>\n",
       "      <td>0.415225</td>\n",
       "      <td>-0.746843</td>\n",
       "      <td>0.728192</td>\n",
       "    </tr>\n",
       "    <tr>\n",
       "      <th>D</th>\n",
       "      <td>-0.361898</td>\n",
       "      <td>-1.859635</td>\n",
       "      <td>0.160541</td>\n",
       "      <td>-0.722504</td>\n",
       "      <td>-2.321330</td>\n",
       "      <td>-0.036008</td>\n",
       "    </tr>\n",
       "  </tbody>\n",
       "</table>\n",
       "</div>"
      ],
      "text/plain": [
       "   2013-01-01  2013-01-02  2013-01-03  2013-01-04  2013-01-05  2013-01-06\n",
       "A   -2.132205    0.239504    1.008913    0.381261   -0.225437    0.115119\n",
       "B   -0.614831    0.989856   -0.865443   -0.436875    0.915924   -1.631890\n",
       "C    1.180666    0.255592   -0.836827    0.415225   -0.746843    0.728192\n",
       "D   -0.361898   -1.859635    0.160541   -0.722504   -2.321330   -0.036008"
      ]
     },
     "execution_count": 23,
     "metadata": {},
     "output_type": "execute_result"
    }
   ],
   "source": [
    "df.T"
   ]
  },
  {
   "cell_type": "code",
   "execution_count": 24,
   "metadata": {
    "collapsed": false
   },
   "outputs": [
    {
     "data": {
      "text/html": [
       "<div>\n",
       "<table border=\"1\" class=\"dataframe\">\n",
       "  <thead>\n",
       "    <tr style=\"text-align: right;\">\n",
       "      <th></th>\n",
       "      <th>D</th>\n",
       "      <th>C</th>\n",
       "      <th>B</th>\n",
       "      <th>A</th>\n",
       "    </tr>\n",
       "  </thead>\n",
       "  <tbody>\n",
       "    <tr>\n",
       "      <th>2013-01-01</th>\n",
       "      <td>-0.361898</td>\n",
       "      <td>1.180666</td>\n",
       "      <td>-0.614831</td>\n",
       "      <td>-2.132205</td>\n",
       "    </tr>\n",
       "    <tr>\n",
       "      <th>2013-01-02</th>\n",
       "      <td>-1.859635</td>\n",
       "      <td>0.255592</td>\n",
       "      <td>0.989856</td>\n",
       "      <td>0.239504</td>\n",
       "    </tr>\n",
       "    <tr>\n",
       "      <th>2013-01-03</th>\n",
       "      <td>0.160541</td>\n",
       "      <td>-0.836827</td>\n",
       "      <td>-0.865443</td>\n",
       "      <td>1.008913</td>\n",
       "    </tr>\n",
       "    <tr>\n",
       "      <th>2013-01-04</th>\n",
       "      <td>-0.722504</td>\n",
       "      <td>0.415225</td>\n",
       "      <td>-0.436875</td>\n",
       "      <td>0.381261</td>\n",
       "    </tr>\n",
       "    <tr>\n",
       "      <th>2013-01-05</th>\n",
       "      <td>-2.321330</td>\n",
       "      <td>-0.746843</td>\n",
       "      <td>0.915924</td>\n",
       "      <td>-0.225437</td>\n",
       "    </tr>\n",
       "    <tr>\n",
       "      <th>2013-01-06</th>\n",
       "      <td>-0.036008</td>\n",
       "      <td>0.728192</td>\n",
       "      <td>-1.631890</td>\n",
       "      <td>0.115119</td>\n",
       "    </tr>\n",
       "  </tbody>\n",
       "</table>\n",
       "</div>"
      ],
      "text/plain": [
       "                   D         C         B         A\n",
       "2013-01-01 -0.361898  1.180666 -0.614831 -2.132205\n",
       "2013-01-02 -1.859635  0.255592  0.989856  0.239504\n",
       "2013-01-03  0.160541 -0.836827 -0.865443  1.008913\n",
       "2013-01-04 -0.722504  0.415225 -0.436875  0.381261\n",
       "2013-01-05 -2.321330 -0.746843  0.915924 -0.225437\n",
       "2013-01-06 -0.036008  0.728192 -1.631890  0.115119"
      ]
     },
     "execution_count": 24,
     "metadata": {},
     "output_type": "execute_result"
    }
   ],
   "source": [
    "df.sort_index(axis=1, ascending=False)"
   ]
  },
  {
   "cell_type": "code",
   "execution_count": 28,
   "metadata": {
    "collapsed": false
   },
   "outputs": [
    {
     "data": {
      "text/html": [
       "<div>\n",
       "<table border=\"1\" class=\"dataframe\">\n",
       "  <thead>\n",
       "    <tr style=\"text-align: right;\">\n",
       "      <th></th>\n",
       "      <th>A</th>\n",
       "      <th>B</th>\n",
       "      <th>C</th>\n",
       "      <th>D</th>\n",
       "    </tr>\n",
       "  </thead>\n",
       "  <tbody>\n",
       "    <tr>\n",
       "      <th>2013-01-06</th>\n",
       "      <td>0.115119</td>\n",
       "      <td>-1.631890</td>\n",
       "      <td>0.728192</td>\n",
       "      <td>-0.036008</td>\n",
       "    </tr>\n",
       "    <tr>\n",
       "      <th>2013-01-05</th>\n",
       "      <td>-0.225437</td>\n",
       "      <td>0.915924</td>\n",
       "      <td>-0.746843</td>\n",
       "      <td>-2.321330</td>\n",
       "    </tr>\n",
       "    <tr>\n",
       "      <th>2013-01-04</th>\n",
       "      <td>0.381261</td>\n",
       "      <td>-0.436875</td>\n",
       "      <td>0.415225</td>\n",
       "      <td>-0.722504</td>\n",
       "    </tr>\n",
       "    <tr>\n",
       "      <th>2013-01-03</th>\n",
       "      <td>1.008913</td>\n",
       "      <td>-0.865443</td>\n",
       "      <td>-0.836827</td>\n",
       "      <td>0.160541</td>\n",
       "    </tr>\n",
       "    <tr>\n",
       "      <th>2013-01-02</th>\n",
       "      <td>0.239504</td>\n",
       "      <td>0.989856</td>\n",
       "      <td>0.255592</td>\n",
       "      <td>-1.859635</td>\n",
       "    </tr>\n",
       "    <tr>\n",
       "      <th>2013-01-01</th>\n",
       "      <td>-2.132205</td>\n",
       "      <td>-0.614831</td>\n",
       "      <td>1.180666</td>\n",
       "      <td>-0.361898</td>\n",
       "    </tr>\n",
       "  </tbody>\n",
       "</table>\n",
       "</div>"
      ],
      "text/plain": [
       "                   A         B         C         D\n",
       "2013-01-06  0.115119 -1.631890  0.728192 -0.036008\n",
       "2013-01-05 -0.225437  0.915924 -0.746843 -2.321330\n",
       "2013-01-04  0.381261 -0.436875  0.415225 -0.722504\n",
       "2013-01-03  1.008913 -0.865443 -0.836827  0.160541\n",
       "2013-01-02  0.239504  0.989856  0.255592 -1.859635\n",
       "2013-01-01 -2.132205 -0.614831  1.180666 -0.361898"
      ]
     },
     "execution_count": 28,
     "metadata": {},
     "output_type": "execute_result"
    }
   ],
   "source": [
    "df.sort_index(axis=0,ascending=False)"
   ]
  },
  {
   "cell_type": "code",
   "execution_count": 29,
   "metadata": {
    "collapsed": false
   },
   "outputs": [
    {
     "data": {
      "text/html": [
       "<div>\n",
       "<table border=\"1\" class=\"dataframe\">\n",
       "  <thead>\n",
       "    <tr style=\"text-align: right;\">\n",
       "      <th></th>\n",
       "      <th>A</th>\n",
       "      <th>B</th>\n",
       "      <th>C</th>\n",
       "      <th>D</th>\n",
       "    </tr>\n",
       "  </thead>\n",
       "  <tbody>\n",
       "    <tr>\n",
       "      <th>2013-01-06</th>\n",
       "      <td>0.115119</td>\n",
       "      <td>-1.631890</td>\n",
       "      <td>0.728192</td>\n",
       "      <td>-0.036008</td>\n",
       "    </tr>\n",
       "    <tr>\n",
       "      <th>2013-01-03</th>\n",
       "      <td>1.008913</td>\n",
       "      <td>-0.865443</td>\n",
       "      <td>-0.836827</td>\n",
       "      <td>0.160541</td>\n",
       "    </tr>\n",
       "    <tr>\n",
       "      <th>2013-01-01</th>\n",
       "      <td>-2.132205</td>\n",
       "      <td>-0.614831</td>\n",
       "      <td>1.180666</td>\n",
       "      <td>-0.361898</td>\n",
       "    </tr>\n",
       "    <tr>\n",
       "      <th>2013-01-04</th>\n",
       "      <td>0.381261</td>\n",
       "      <td>-0.436875</td>\n",
       "      <td>0.415225</td>\n",
       "      <td>-0.722504</td>\n",
       "    </tr>\n",
       "    <tr>\n",
       "      <th>2013-01-05</th>\n",
       "      <td>-0.225437</td>\n",
       "      <td>0.915924</td>\n",
       "      <td>-0.746843</td>\n",
       "      <td>-2.321330</td>\n",
       "    </tr>\n",
       "    <tr>\n",
       "      <th>2013-01-02</th>\n",
       "      <td>0.239504</td>\n",
       "      <td>0.989856</td>\n",
       "      <td>0.255592</td>\n",
       "      <td>-1.859635</td>\n",
       "    </tr>\n",
       "  </tbody>\n",
       "</table>\n",
       "</div>"
      ],
      "text/plain": [
       "                   A         B         C         D\n",
       "2013-01-06  0.115119 -1.631890  0.728192 -0.036008\n",
       "2013-01-03  1.008913 -0.865443 -0.836827  0.160541\n",
       "2013-01-01 -2.132205 -0.614831  1.180666 -0.361898\n",
       "2013-01-04  0.381261 -0.436875  0.415225 -0.722504\n",
       "2013-01-05 -0.225437  0.915924 -0.746843 -2.321330\n",
       "2013-01-02  0.239504  0.989856  0.255592 -1.859635"
      ]
     },
     "execution_count": 29,
     "metadata": {},
     "output_type": "execute_result"
    }
   ],
   "source": [
    "df.sort_values(by='B')"
   ]
  },
  {
   "cell_type": "code",
   "execution_count": 30,
   "metadata": {
    "collapsed": false
   },
   "outputs": [
    {
     "data": {
      "text/plain": [
       "2013-01-01   -2.132205\n",
       "2013-01-02    0.239504\n",
       "2013-01-03    1.008913\n",
       "2013-01-04    0.381261\n",
       "2013-01-05   -0.225437\n",
       "2013-01-06    0.115119\n",
       "Freq: D, Name: A, dtype: float64"
      ]
     },
     "execution_count": 30,
     "metadata": {},
     "output_type": "execute_result"
    }
   ],
   "source": [
    "df['A']"
   ]
  },
  {
   "cell_type": "code",
   "execution_count": 31,
   "metadata": {
    "collapsed": false
   },
   "outputs": [
    {
     "data": {
      "text/html": [
       "<div>\n",
       "<table border=\"1\" class=\"dataframe\">\n",
       "  <thead>\n",
       "    <tr style=\"text-align: right;\">\n",
       "      <th></th>\n",
       "      <th>A</th>\n",
       "      <th>B</th>\n",
       "      <th>C</th>\n",
       "      <th>D</th>\n",
       "    </tr>\n",
       "  </thead>\n",
       "  <tbody>\n",
       "    <tr>\n",
       "      <th>2013-01-01</th>\n",
       "      <td>-2.132205</td>\n",
       "      <td>-0.614831</td>\n",
       "      <td>1.180666</td>\n",
       "      <td>-0.361898</td>\n",
       "    </tr>\n",
       "    <tr>\n",
       "      <th>2013-01-02</th>\n",
       "      <td>0.239504</td>\n",
       "      <td>0.989856</td>\n",
       "      <td>0.255592</td>\n",
       "      <td>-1.859635</td>\n",
       "    </tr>\n",
       "    <tr>\n",
       "      <th>2013-01-03</th>\n",
       "      <td>1.008913</td>\n",
       "      <td>-0.865443</td>\n",
       "      <td>-0.836827</td>\n",
       "      <td>0.160541</td>\n",
       "    </tr>\n",
       "  </tbody>\n",
       "</table>\n",
       "</div>"
      ],
      "text/plain": [
       "                   A         B         C         D\n",
       "2013-01-01 -2.132205 -0.614831  1.180666 -0.361898\n",
       "2013-01-02  0.239504  0.989856  0.255592 -1.859635\n",
       "2013-01-03  1.008913 -0.865443 -0.836827  0.160541"
      ]
     },
     "execution_count": 31,
     "metadata": {},
     "output_type": "execute_result"
    }
   ],
   "source": [
    "df[0:3]"
   ]
  },
  {
   "cell_type": "code",
   "execution_count": 32,
   "metadata": {
    "collapsed": false
   },
   "outputs": [
    {
     "data": {
      "text/html": [
       "<div>\n",
       "<table border=\"1\" class=\"dataframe\">\n",
       "  <thead>\n",
       "    <tr style=\"text-align: right;\">\n",
       "      <th></th>\n",
       "      <th>A</th>\n",
       "      <th>B</th>\n",
       "      <th>C</th>\n",
       "      <th>D</th>\n",
       "    </tr>\n",
       "  </thead>\n",
       "  <tbody>\n",
       "    <tr>\n",
       "      <th>2013-01-02</th>\n",
       "      <td>0.239504</td>\n",
       "      <td>0.989856</td>\n",
       "      <td>0.255592</td>\n",
       "      <td>-1.859635</td>\n",
       "    </tr>\n",
       "    <tr>\n",
       "      <th>2013-01-03</th>\n",
       "      <td>1.008913</td>\n",
       "      <td>-0.865443</td>\n",
       "      <td>-0.836827</td>\n",
       "      <td>0.160541</td>\n",
       "    </tr>\n",
       "    <tr>\n",
       "      <th>2013-01-04</th>\n",
       "      <td>0.381261</td>\n",
       "      <td>-0.436875</td>\n",
       "      <td>0.415225</td>\n",
       "      <td>-0.722504</td>\n",
       "    </tr>\n",
       "  </tbody>\n",
       "</table>\n",
       "</div>"
      ],
      "text/plain": [
       "                   A         B         C         D\n",
       "2013-01-02  0.239504  0.989856  0.255592 -1.859635\n",
       "2013-01-03  1.008913 -0.865443 -0.836827  0.160541\n",
       "2013-01-04  0.381261 -0.436875  0.415225 -0.722504"
      ]
     },
     "execution_count": 32,
     "metadata": {},
     "output_type": "execute_result"
    }
   ],
   "source": [
    "df['20130102':'20130104']"
   ]
  },
  {
   "cell_type": "code",
   "execution_count": 33,
   "metadata": {
    "collapsed": false
   },
   "outputs": [
    {
     "data": {
      "text/html": [
       "<div>\n",
       "<table border=\"1\" class=\"dataframe\">\n",
       "  <thead>\n",
       "    <tr style=\"text-align: right;\">\n",
       "      <th></th>\n",
       "      <th>A</th>\n",
       "      <th>B</th>\n",
       "    </tr>\n",
       "  </thead>\n",
       "  <tbody>\n",
       "    <tr>\n",
       "      <th>2013-01-01</th>\n",
       "      <td>-2.132205</td>\n",
       "      <td>-0.614831</td>\n",
       "    </tr>\n",
       "    <tr>\n",
       "      <th>2013-01-02</th>\n",
       "      <td>0.239504</td>\n",
       "      <td>0.989856</td>\n",
       "    </tr>\n",
       "    <tr>\n",
       "      <th>2013-01-03</th>\n",
       "      <td>1.008913</td>\n",
       "      <td>-0.865443</td>\n",
       "    </tr>\n",
       "    <tr>\n",
       "      <th>2013-01-04</th>\n",
       "      <td>0.381261</td>\n",
       "      <td>-0.436875</td>\n",
       "    </tr>\n",
       "    <tr>\n",
       "      <th>2013-01-05</th>\n",
       "      <td>-0.225437</td>\n",
       "      <td>0.915924</td>\n",
       "    </tr>\n",
       "    <tr>\n",
       "      <th>2013-01-06</th>\n",
       "      <td>0.115119</td>\n",
       "      <td>-1.631890</td>\n",
       "    </tr>\n",
       "  </tbody>\n",
       "</table>\n",
       "</div>"
      ],
      "text/plain": [
       "                   A         B\n",
       "2013-01-01 -2.132205 -0.614831\n",
       "2013-01-02  0.239504  0.989856\n",
       "2013-01-03  1.008913 -0.865443\n",
       "2013-01-04  0.381261 -0.436875\n",
       "2013-01-05 -0.225437  0.915924\n",
       "2013-01-06  0.115119 -1.631890"
      ]
     },
     "execution_count": 33,
     "metadata": {},
     "output_type": "execute_result"
    }
   ],
   "source": [
    "df.loc[:,['A','B']]"
   ]
  },
  {
   "cell_type": "code",
   "execution_count": 34,
   "metadata": {
    "collapsed": false
   },
   "outputs": [
    {
     "data": {
      "text/plain": [
       "Timestamp('2013-01-01 00:00:00', freq='D')"
      ]
     },
     "execution_count": 34,
     "metadata": {},
     "output_type": "execute_result"
    }
   ],
   "source": [
    "dates[0]"
   ]
  },
  {
   "cell_type": "code",
   "execution_count": 35,
   "metadata": {
    "collapsed": false
   },
   "outputs": [
    {
     "data": {
      "text/plain": [
       "A   -2.132205\n",
       "B   -0.614831\n",
       "C    1.180666\n",
       "D   -0.361898\n",
       "Name: 2013-01-01 00:00:00, dtype: float64"
      ]
     },
     "execution_count": 35,
     "metadata": {},
     "output_type": "execute_result"
    }
   ],
   "source": [
    "df.loc[dates[0]]"
   ]
  },
  {
   "cell_type": "code",
   "execution_count": 36,
   "metadata": {
    "collapsed": false
   },
   "outputs": [
    {
     "data": {
      "text/plain": [
       "A    0.239504\n",
       "B    0.989856\n",
       "Name: 2013-01-02 00:00:00, dtype: float64"
      ]
     },
     "execution_count": 36,
     "metadata": {},
     "output_type": "execute_result"
    }
   ],
   "source": [
    "df.loc['20130102',['A','B']]"
   ]
  },
  {
   "cell_type": "code",
   "execution_count": 37,
   "metadata": {
    "collapsed": false
   },
   "outputs": [
    {
     "data": {
      "text/html": [
       "<div>\n",
       "<table border=\"1\" class=\"dataframe\">\n",
       "  <thead>\n",
       "    <tr style=\"text-align: right;\">\n",
       "      <th></th>\n",
       "      <th>A</th>\n",
       "      <th>B</th>\n",
       "      <th>C</th>\n",
       "      <th>D</th>\n",
       "    </tr>\n",
       "  </thead>\n",
       "  <tbody>\n",
       "    <tr>\n",
       "      <th>2013-01-02</th>\n",
       "      <td>0.239504</td>\n",
       "      <td>0.989856</td>\n",
       "      <td>0.255592</td>\n",
       "      <td>-1.859635</td>\n",
       "    </tr>\n",
       "    <tr>\n",
       "      <th>2013-01-03</th>\n",
       "      <td>1.008913</td>\n",
       "      <td>-0.865443</td>\n",
       "      <td>-0.836827</td>\n",
       "      <td>0.160541</td>\n",
       "    </tr>\n",
       "    <tr>\n",
       "      <th>2013-01-04</th>\n",
       "      <td>0.381261</td>\n",
       "      <td>-0.436875</td>\n",
       "      <td>0.415225</td>\n",
       "      <td>-0.722504</td>\n",
       "    </tr>\n",
       "    <tr>\n",
       "      <th>2013-01-06</th>\n",
       "      <td>0.115119</td>\n",
       "      <td>-1.631890</td>\n",
       "      <td>0.728192</td>\n",
       "      <td>-0.036008</td>\n",
       "    </tr>\n",
       "  </tbody>\n",
       "</table>\n",
       "</div>"
      ],
      "text/plain": [
       "                   A         B         C         D\n",
       "2013-01-02  0.239504  0.989856  0.255592 -1.859635\n",
       "2013-01-03  1.008913 -0.865443 -0.836827  0.160541\n",
       "2013-01-04  0.381261 -0.436875  0.415225 -0.722504\n",
       "2013-01-06  0.115119 -1.631890  0.728192 -0.036008"
      ]
     },
     "execution_count": 37,
     "metadata": {},
     "output_type": "execute_result"
    }
   ],
   "source": [
    "df[df.A > 0]"
   ]
  },
  {
   "cell_type": "code",
   "execution_count": 38,
   "metadata": {
    "collapsed": true
   },
   "outputs": [],
   "source": [
    "df.at[dates[0],'A'] = 0"
   ]
  },
  {
   "cell_type": "code",
   "execution_count": 39,
   "metadata": {
    "collapsed": false
   },
   "outputs": [
    {
     "data": {
      "text/html": [
       "<div>\n",
       "<table border=\"1\" class=\"dataframe\">\n",
       "  <thead>\n",
       "    <tr style=\"text-align: right;\">\n",
       "      <th></th>\n",
       "      <th>A</th>\n",
       "      <th>B</th>\n",
       "      <th>C</th>\n",
       "      <th>D</th>\n",
       "    </tr>\n",
       "  </thead>\n",
       "  <tbody>\n",
       "    <tr>\n",
       "      <th>2013-01-01</th>\n",
       "      <td>0.000000</td>\n",
       "      <td>-0.614831</td>\n",
       "      <td>1.180666</td>\n",
       "      <td>-0.361898</td>\n",
       "    </tr>\n",
       "    <tr>\n",
       "      <th>2013-01-02</th>\n",
       "      <td>0.239504</td>\n",
       "      <td>0.989856</td>\n",
       "      <td>0.255592</td>\n",
       "      <td>-1.859635</td>\n",
       "    </tr>\n",
       "    <tr>\n",
       "      <th>2013-01-03</th>\n",
       "      <td>1.008913</td>\n",
       "      <td>-0.865443</td>\n",
       "      <td>-0.836827</td>\n",
       "      <td>0.160541</td>\n",
       "    </tr>\n",
       "    <tr>\n",
       "      <th>2013-01-04</th>\n",
       "      <td>0.381261</td>\n",
       "      <td>-0.436875</td>\n",
       "      <td>0.415225</td>\n",
       "      <td>-0.722504</td>\n",
       "    </tr>\n",
       "    <tr>\n",
       "      <th>2013-01-05</th>\n",
       "      <td>-0.225437</td>\n",
       "      <td>0.915924</td>\n",
       "      <td>-0.746843</td>\n",
       "      <td>-2.321330</td>\n",
       "    </tr>\n",
       "    <tr>\n",
       "      <th>2013-01-06</th>\n",
       "      <td>0.115119</td>\n",
       "      <td>-1.631890</td>\n",
       "      <td>0.728192</td>\n",
       "      <td>-0.036008</td>\n",
       "    </tr>\n",
       "  </tbody>\n",
       "</table>\n",
       "</div>"
      ],
      "text/plain": [
       "                   A         B         C         D\n",
       "2013-01-01  0.000000 -0.614831  1.180666 -0.361898\n",
       "2013-01-02  0.239504  0.989856  0.255592 -1.859635\n",
       "2013-01-03  1.008913 -0.865443 -0.836827  0.160541\n",
       "2013-01-04  0.381261 -0.436875  0.415225 -0.722504\n",
       "2013-01-05 -0.225437  0.915924 -0.746843 -2.321330\n",
       "2013-01-06  0.115119 -1.631890  0.728192 -0.036008"
      ]
     },
     "execution_count": 39,
     "metadata": {},
     "output_type": "execute_result"
    }
   ],
   "source": [
    "df"
   ]
  },
  {
   "cell_type": "code",
   "execution_count": 40,
   "metadata": {
    "collapsed": true
   },
   "outputs": [],
   "source": [
    "df.iat[0,1] = 1"
   ]
  },
  {
   "cell_type": "code",
   "execution_count": 41,
   "metadata": {
    "collapsed": false
   },
   "outputs": [
    {
     "data": {
      "text/html": [
       "<div>\n",
       "<table border=\"1\" class=\"dataframe\">\n",
       "  <thead>\n",
       "    <tr style=\"text-align: right;\">\n",
       "      <th></th>\n",
       "      <th>A</th>\n",
       "      <th>B</th>\n",
       "      <th>C</th>\n",
       "      <th>D</th>\n",
       "    </tr>\n",
       "  </thead>\n",
       "  <tbody>\n",
       "    <tr>\n",
       "      <th>2013-01-01</th>\n",
       "      <td>0.000000</td>\n",
       "      <td>1.000000</td>\n",
       "      <td>1.180666</td>\n",
       "      <td>-0.361898</td>\n",
       "    </tr>\n",
       "    <tr>\n",
       "      <th>2013-01-02</th>\n",
       "      <td>0.239504</td>\n",
       "      <td>0.989856</td>\n",
       "      <td>0.255592</td>\n",
       "      <td>-1.859635</td>\n",
       "    </tr>\n",
       "    <tr>\n",
       "      <th>2013-01-03</th>\n",
       "      <td>1.008913</td>\n",
       "      <td>-0.865443</td>\n",
       "      <td>-0.836827</td>\n",
       "      <td>0.160541</td>\n",
       "    </tr>\n",
       "    <tr>\n",
       "      <th>2013-01-04</th>\n",
       "      <td>0.381261</td>\n",
       "      <td>-0.436875</td>\n",
       "      <td>0.415225</td>\n",
       "      <td>-0.722504</td>\n",
       "    </tr>\n",
       "    <tr>\n",
       "      <th>2013-01-05</th>\n",
       "      <td>-0.225437</td>\n",
       "      <td>0.915924</td>\n",
       "      <td>-0.746843</td>\n",
       "      <td>-2.321330</td>\n",
       "    </tr>\n",
       "    <tr>\n",
       "      <th>2013-01-06</th>\n",
       "      <td>0.115119</td>\n",
       "      <td>-1.631890</td>\n",
       "      <td>0.728192</td>\n",
       "      <td>-0.036008</td>\n",
       "    </tr>\n",
       "  </tbody>\n",
       "</table>\n",
       "</div>"
      ],
      "text/plain": [
       "                   A         B         C         D\n",
       "2013-01-01  0.000000  1.000000  1.180666 -0.361898\n",
       "2013-01-02  0.239504  0.989856  0.255592 -1.859635\n",
       "2013-01-03  1.008913 -0.865443 -0.836827  0.160541\n",
       "2013-01-04  0.381261 -0.436875  0.415225 -0.722504\n",
       "2013-01-05 -0.225437  0.915924 -0.746843 -2.321330\n",
       "2013-01-06  0.115119 -1.631890  0.728192 -0.036008"
      ]
     },
     "execution_count": 41,
     "metadata": {},
     "output_type": "execute_result"
    }
   ],
   "source": [
    "df"
   ]
  },
  {
   "cell_type": "code",
   "execution_count": 42,
   "metadata": {
    "collapsed": false
   },
   "outputs": [
    {
     "data": {
      "text/plain": [
       "2013-01-01    0.000000\n",
       "2013-01-02    0.239504\n",
       "2013-01-03    1.008913\n",
       "2013-01-04    0.381261\n",
       "2013-01-05   -0.225437\n",
       "2013-01-06    0.115119\n",
       "Freq: D, Name: A, dtype: float64"
      ]
     },
     "execution_count": 42,
     "metadata": {},
     "output_type": "execute_result"
    }
   ],
   "source": [
    "df.A"
   ]
  },
  {
   "cell_type": "code",
   "execution_count": 43,
   "metadata": {
    "collapsed": false
   },
   "outputs": [
    {
     "data": {
      "text/plain": [
       "2013-01-01    0.000000\n",
       "2013-01-02    0.239504\n",
       "2013-01-03    1.008913\n",
       "2013-01-04    0.381261\n",
       "2013-01-05   -0.225437\n",
       "2013-01-06    0.115119\n",
       "Freq: D, Name: A, dtype: float64"
      ]
     },
     "execution_count": 43,
     "metadata": {},
     "output_type": "execute_result"
    }
   ],
   "source": [
    "df['A']"
   ]
  },
  {
   "cell_type": "code",
   "execution_count": null,
   "metadata": {
    "collapsed": true
   },
   "outputs": [],
   "source": []
  }
 ],
 "metadata": {
  "kernelspec": {
   "display_name": "Python 2",
   "language": "python",
   "name": "python2"
  },
  "language_info": {
   "codemirror_mode": {
    "name": "ipython",
    "version": 2
   },
   "file_extension": ".py",
   "mimetype": "text/x-python",
   "name": "python",
   "nbconvert_exporter": "python",
   "pygments_lexer": "ipython2",
   "version": "2.7.13"
  }
 },
 "nbformat": 4,
 "nbformat_minor": 2
}
